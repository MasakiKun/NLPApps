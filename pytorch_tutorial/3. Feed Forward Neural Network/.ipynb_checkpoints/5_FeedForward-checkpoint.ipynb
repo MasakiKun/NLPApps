{
 "cells": [
  {
   "cell_type": "code",
   "execution_count": 1,
   "metadata": {},
   "outputs": [],
   "source": [
    "import torch\n",
    "import torch.nn as nn\n",
    "from torch.autograd import Variable\n",
    "import torchvision.datasets as dsets\n",
    "import torchvision.transforms as transforms\n",
    "import numpy as np\n"
   ]
  },
  {
   "cell_type": "code",
   "execution_count": 2,
   "metadata": {},
   "outputs": [],
   "source": [
    "# 1. Hyper Parameter\n",
    "train_size = 784\n",
    "num_classes = 10\n",
    "hidden1_size = 500\n",
    "learning_rate = 0.001\n",
    "\n",
    "batch_size = 100\n",
    "ephoc_size = 5\n"
   ]
  },
  {
   "cell_type": "code",
   "execution_count": 3,
   "metadata": {},
   "outputs": [
    {
     "name": "stderr",
     "output_type": "stream",
     "text": [
      "\r",
      "0it [00:00, ?it/s]"
     ]
    },
    {
     "name": "stdout",
     "output_type": "stream",
     "text": [
      "Downloading http://yann.lecun.com/exdb/mnist/train-images-idx3-ubyte.gz to ./data/MNIST/raw/train-images-idx3-ubyte.gz\n"
     ]
    },
    {
     "name": "stderr",
     "output_type": "stream",
     "text": [
      "9920512it [00:03, 2859824.91it/s]                             \n"
     ]
    },
    {
     "name": "stdout",
     "output_type": "stream",
     "text": [
      "Extracting ./data/MNIST/raw/train-images-idx3-ubyte.gz\n"
     ]
    },
    {
     "name": "stderr",
     "output_type": "stream",
     "text": [
      "\r",
      "0it [00:00, ?it/s]"
     ]
    },
    {
     "name": "stdout",
     "output_type": "stream",
     "text": [
      "Downloading http://yann.lecun.com/exdb/mnist/train-labels-idx1-ubyte.gz to ./data/MNIST/raw/train-labels-idx1-ubyte.gz\n"
     ]
    },
    {
     "name": "stderr",
     "output_type": "stream",
     "text": [
      "32768it [00:00, 40898.40it/s]                           \n",
      "0it [00:00, ?it/s]"
     ]
    },
    {
     "name": "stdout",
     "output_type": "stream",
     "text": [
      "Extracting ./data/MNIST/raw/train-labels-idx1-ubyte.gz\n",
      "Downloading http://yann.lecun.com/exdb/mnist/t10k-images-idx3-ubyte.gz to ./data/MNIST/raw/t10k-images-idx3-ubyte.gz\n"
     ]
    },
    {
     "name": "stderr",
     "output_type": "stream",
     "text": [
      "1654784it [00:01, 993718.01it/s]                            \n",
      "0it [00:00, ?it/s]"
     ]
    },
    {
     "name": "stdout",
     "output_type": "stream",
     "text": [
      "Extracting ./data/MNIST/raw/t10k-images-idx3-ubyte.gz\n",
      "Downloading http://yann.lecun.com/exdb/mnist/t10k-labels-idx1-ubyte.gz to ./data/MNIST/raw/t10k-labels-idx1-ubyte.gz\n"
     ]
    },
    {
     "name": "stderr",
     "output_type": "stream",
     "text": [
      "8192it [00:00, 13103.78it/s]            "
     ]
    },
    {
     "name": "stdout",
     "output_type": "stream",
     "text": [
      "Extracting ./data/MNIST/raw/t10k-labels-idx1-ubyte.gz\n",
      "Processing...\n",
      "Done!\n"
     ]
    },
    {
     "name": "stderr",
     "output_type": "stream",
     "text": [
      "\n"
     ]
    }
   ],
   "source": [
    "# 2. Data load\n",
    "# MNIST Dataset \n",
    "train_dataset = dsets.MNIST(root='./data', \n",
    "                            train=True, \n",
    "                            transform=transforms.ToTensor(),  \n",
    "                            download=True)\n",
    "\n",
    "test_dataset = dsets.MNIST(root='./data', \n",
    "                           train=False, \n",
    "                           transform=transforms.ToTensor())\n",
    "\n",
    "# Data Loader (Input Pipeline)\n",
    "train_loader = torch.utils.data.DataLoader(dataset=train_dataset, \n",
    "                                           batch_size=batch_size, \n",
    "                                           shuffle=True)\n",
    "\n",
    "test_loader = torch.utils.data.DataLoader(dataset=test_dataset, \n",
    "                                          batch_size=batch_size, \n",
    "                                          shuffle=False)"
   ]
  },
  {
   "cell_type": "code",
   "execution_count": 4,
   "metadata": {},
   "outputs": [],
   "source": [
    "# 3. Build the Model\n",
    "class FeedForwardNN(nn.Module):\n",
    "    def __init__(self, train_size, hidden1_size, num_classes):\n",
    "        super(FeedForwardNN, self).__init__()\n",
    "        self.linear1 = nn.Linear(train_size, hidden1_size) #784x20\n",
    "        self.relu = nn.ReLU()\n",
    "        self.linear2 = nn.Linear(hidden1_size, num_classes) #20x10\n",
    "        \n",
    "    def forward(self, x):\n",
    "        z1 = self.linear1(x)\n",
    "        a1 = self.relu(z1)\n",
    "        z2 = self.linear2(a1)\n",
    "        \n",
    "        return z2\n",
    "        "
   ]
  },
  {
   "cell_type": "code",
   "execution_count": 5,
   "metadata": {},
   "outputs": [],
   "source": [
    "# 4. Generate a model\n",
    "model = FeedForwardNN(train_size, hidden1_size, num_classes)"
   ]
  },
  {
   "cell_type": "code",
   "execution_count": 6,
   "metadata": {},
   "outputs": [],
   "source": [
    "# 5. Init loss function and Optimizer\n",
    "loss_function = nn.CrossEntropyLoss()\n",
    "optimizer = torch.optim.Adam(model.parameters(), lr=learning_rate)"
   ]
  },
  {
   "cell_type": "code",
   "execution_count": 7,
   "metadata": {},
   "outputs": [
    {
     "name": "stdout",
     "output_type": "stream",
     "text": [
      "ephoc:  0\n",
      "ephoc[ 0 ] \t loss: 2.310422658920288\n",
      "ephoc[ 0 ] \t loss: 0.40802592039108276\n",
      "ephoc[ 0 ] \t loss: 0.19996318221092224\n",
      "ephoc[ 0 ] \t loss: 0.15013495087623596\n",
      "ephoc[ 0 ] \t loss: 0.1843675971031189\n",
      "ephoc[ 0 ] \t loss: 0.17182865738868713\n",
      "ephoc:  1\n",
      "ephoc[ 1 ] \t loss: 0.1467081606388092\n",
      "ephoc[ 1 ] \t loss: 0.17056721448898315\n",
      "ephoc[ 1 ] \t loss: 0.1366962045431137\n",
      "ephoc[ 1 ] \t loss: 0.11327894032001495\n",
      "ephoc[ 1 ] \t loss: 0.14209286868572235\n",
      "ephoc[ 1 ] \t loss: 0.10156629234552383\n",
      "ephoc:  2\n",
      "ephoc[ 2 ] \t loss: 0.0877559632062912\n",
      "ephoc[ 2 ] \t loss: 0.08177069574594498\n",
      "ephoc[ 2 ] \t loss: 0.03787003457546234\n",
      "ephoc[ 2 ] \t loss: 0.07844266295433044\n",
      "ephoc[ 2 ] \t loss: 0.11255628615617752\n",
      "ephoc[ 2 ] \t loss: 0.09957398474216461\n",
      "ephoc:  3\n",
      "ephoc[ 3 ] \t loss: 0.03837532177567482\n",
      "ephoc[ 3 ] \t loss: 0.05395949259400368\n",
      "ephoc[ 3 ] \t loss: 0.009709489531815052\n",
      "ephoc[ 3 ] \t loss: 0.021260881796479225\n",
      "ephoc[ 3 ] \t loss: 0.016461573541164398\n",
      "ephoc[ 3 ] \t loss: 0.0791126936674118\n",
      "ephoc:  4\n",
      "ephoc[ 4 ] \t loss: 0.08577308058738708\n",
      "ephoc[ 4 ] \t loss: 0.03198343142867088\n",
      "ephoc[ 4 ] \t loss: 0.13115057349205017\n",
      "ephoc[ 4 ] \t loss: 0.0205330029129982\n",
      "ephoc[ 4 ] \t loss: 0.04334777966141701\n",
      "ephoc[ 4 ] \t loss: 0.013429142534732819\n"
     ]
    }
   ],
   "source": [
    "# 6. Train\n",
    "for ephoc in range(ephoc_size):\n",
    "    print(\"ephoc: \",ephoc)\n",
    "    for idx, (images, labels) in enumerate(train_loader):\n",
    "        #convert dataset as the Pytorch style\n",
    "        images = Variable(images.view(-1,28*28))\n",
    "        labels = Variable(labels)\n",
    "        \n",
    "        #Forward, Backward, gradient\n",
    "        optimizer.zero_grad()\n",
    "        outputs = model(images)\n",
    "        loss = loss_function(outputs, labels)\n",
    "        loss.backward()\n",
    "        optimizer.step()\n",
    "        \n",
    "        if idx%100 == 0:\n",
    "            print(\"ephoc[\",ephoc,\"] \\t\", \"loss:\", loss.item())\n",
    "            "
   ]
  },
  {
   "cell_type": "code",
   "execution_count": 8,
   "metadata": {},
   "outputs": [
    {
     "name": "stdout",
     "output_type": "stream",
     "text": [
      "Accuracy of the network on the 10000 test images: 98 %\n"
     ]
    }
   ],
   "source": [
    "#Test the model\n",
    "total = 0\n",
    "correct = 0\n",
    "for images, labels in test_loader:\n",
    "    images = Variable(images.view(-1,28*28))\n",
    "\n",
    "    outputs = model(images)   \n",
    "    _, predicted = torch.max(outputs.data, 1)\n",
    "    total += len(predicted)\n",
    "    correct += (predicted == labels).sum()\n",
    "\n",
    "print('Accuracy of the network on the 10000 test images: %d %%' % (100 * correct / total))"
   ]
  }
 ],
 "metadata": {
  "kernelspec": {
   "display_name": "Python 3",
   "language": "python",
   "name": "python3"
  },
  "language_info": {
   "codemirror_mode": {
    "name": "ipython",
    "version": 3
   },
   "file_extension": ".py",
   "mimetype": "text/x-python",
   "name": "python",
   "nbconvert_exporter": "python",
   "pygments_lexer": "ipython3",
   "version": "3.7.1"
  }
 },
 "nbformat": 4,
 "nbformat_minor": 2
}
