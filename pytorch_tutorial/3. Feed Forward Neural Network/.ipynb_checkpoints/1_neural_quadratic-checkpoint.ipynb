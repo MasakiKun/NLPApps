{
 "cells": [
  {
   "cell_type": "markdown",
   "metadata": {},
   "source": [
    "# Neural Network with Quadratic Data\n",
    "출처: https://github.com/GunhoChoi/PyTorch-FastCampus/blob/master/02_Regression%26NN/1_NN_code/1d_data/0_neural_quadratic.ipynb\n",
    "- y = 8x^2+7x+3\n",
    "- 4 hidden layers\n",
    "\n",
    "<img src=\"./quadratic.png\">\n",
    "\n",
    "사진출처: http://cs.franklin.edu/~sieberth/MATH160/bookFiles/Chapter3/333371_0307_317-323.pdf "
   ]
  },
  {
   "cell_type": "markdown",
   "metadata": {},
   "source": [
    "## 1.Import Required Libraries"
   ]
  },
  {
   "cell_type": "code",
   "execution_count": 1,
   "metadata": {},
   "outputs": [
    {
     "name": "stderr",
     "output_type": "stream",
     "text": [
      "WARNING:root:Setting up a new session...\n"
     ]
    }
   ],
   "source": [
    "import numpy as np\n",
    "import torch\n",
    "import torch.nn as nn\n",
    "import torch.optim as optim\n",
    "import torch.nn.init as init\n",
    "from torch.autograd import Variable\n",
    "from visdom import Visdom\n",
    "viz = Visdom()"
   ]
  },
  {
   "cell_type": "markdown",
   "metadata": {},
   "source": [
    "## 2. Data Generation"
   ]
  },
  {
   "cell_type": "code",
   "execution_count": 2,
   "metadata": {},
   "outputs": [
    {
     "name": "stderr",
     "output_type": "stream",
     "text": [
      "/anaconda3/envs/NLPApps/lib/python3.7/site-packages/ipykernel_launcher.py:4: UserWarning: nn.init.normal is now deprecated in favor of nn.init.normal_.\n",
      "  after removing the cwd from sys.path.\n",
      "/anaconda3/envs/NLPApps/lib/python3.7/site-packages/ipykernel_launcher.py:6: UserWarning: nn.init.uniform is now deprecated in favor of nn.init.uniform_.\n",
      "  \n"
     ]
    }
   ],
   "source": [
    "num_data = 1000\n",
    "num_epoch = 5000\n",
    "\n",
    "noise = init.normal(torch.FloatTensor(num_data,1),std=3)\n",
    "\n",
    "x = init.uniform(torch.Tensor(num_data,1),-15,15)\n",
    "y = (x**2) + 3 \n",
    "\n",
    "y_noise = y + noise"
   ]
  },
  {
   "cell_type": "code",
   "execution_count": 3,
   "metadata": {},
   "outputs": [],
   "source": [
    "# visualize data\n",
    "\n",
    "input_data = torch.cat([x,y_noise],1)\n",
    "\n",
    "win=viz.scatter(\n",
    "    X = input_data,\n",
    "    opts=dict(\n",
    "        xtickmin=-15,\n",
    "        xtickmax=15,\n",
    "        xtickstep=1,\n",
    "        ytickmin=0,\n",
    "        ytickmax=500,\n",
    "        ytickstep=1,\n",
    "        markersymbol='dot',\n",
    "        markercolor=np.random.randint(0, 255, num_data),\n",
    "        markersize=5,\n",
    "    ),\n",
    ")\n"
   ]
  },
  {
   "cell_type": "code",
   "execution_count": 4,
   "metadata": {},
   "outputs": [],
   "source": [
    "\n",
    "win=viz.scatter(\n",
    "    X = torch.cat([x,y],1),\n",
    "    opts=dict(\n",
    "        xtickmin=-15,\n",
    "        xtickmax=15,\n",
    "        xtickstep=1,\n",
    "        ytickmin=0,\n",
    "        ytickmax=500,\n",
    "        ytickstep=1,\n",
    "        markersymbol='dot',\n",
    "        markercolor=np.random.randint(0, 255, num_data),\n",
    "        markersize=5,\n",
    "    ),\n",
    ")\n"
   ]
  },
  {
   "cell_type": "markdown",
   "metadata": {},
   "source": [
    "## 3. Model & Optimizer"
   ]
  },
  {
   "cell_type": "code",
   "execution_count": 5,
   "metadata": {},
   "outputs": [],
   "source": [
    "# fully connected model with 4 hidden layer\n",
    "\n",
    "model = nn.Sequential(\n",
    "        nn.Linear(1,6),\n",
    "        nn.ReLU(),\n",
    "#        nn.Linear(6,10),\n",
    "#        nn.ReLU(),\n",
    "#        nn.Linear(10,6),\n",
    "#        nn.ReLU(),\n",
    "        nn.Linear(6,1),\n",
    "    )\n",
    "\n",
    "loss_func = nn.L1Loss()\n",
    "optimizer = optim.SGD(model.parameters(),lr=0.001)"
   ]
  },
  {
   "cell_type": "markdown",
   "metadata": {},
   "source": [
    "## 4. Train "
   ]
  },
  {
   "cell_type": "code",
   "execution_count": 6,
   "metadata": {
    "scrolled": true
   },
   "outputs": [
    {
     "name": "stdout",
     "output_type": "stream",
     "text": [
      "tensor(76.8354, grad_fn=<L1LossBackward>)\n",
      "tensor(75.7036, grad_fn=<L1LossBackward>)\n",
      "tensor(74.4679, grad_fn=<L1LossBackward>)\n",
      "tensor(72.9634, grad_fn=<L1LossBackward>)\n",
      "tensor(70.9943, grad_fn=<L1LossBackward>)\n",
      "tensor(68.3316, grad_fn=<L1LossBackward>)\n",
      "tensor(64.7529, grad_fn=<L1LossBackward>)\n",
      "tensor(60.3154, grad_fn=<L1LossBackward>)\n",
      "tensor(55.8968, grad_fn=<L1LossBackward>)\n",
      "tensor(52.5228, grad_fn=<L1LossBackward>)\n",
      "tensor(50.7093, grad_fn=<L1LossBackward>)\n",
      "tensor(49.9067, grad_fn=<L1LossBackward>)\n",
      "tensor(49.6312, grad_fn=<L1LossBackward>)\n",
      "tensor(49.5194, grad_fn=<L1LossBackward>)\n",
      "tensor(49.4794, grad_fn=<L1LossBackward>)\n",
      "tensor(49.4475, grad_fn=<L1LossBackward>)\n",
      "tensor(49.4197, grad_fn=<L1LossBackward>)\n",
      "tensor(49.3940, grad_fn=<L1LossBackward>)\n",
      "tensor(49.3684, grad_fn=<L1LossBackward>)\n",
      "tensor(49.3429, grad_fn=<L1LossBackward>)\n",
      "tensor(49.3173, grad_fn=<L1LossBackward>)\n",
      "tensor(49.2916, grad_fn=<L1LossBackward>)\n",
      "tensor(49.2662, grad_fn=<L1LossBackward>)\n",
      "tensor(49.2407, grad_fn=<L1LossBackward>)\n",
      "tensor(49.2151, grad_fn=<L1LossBackward>)\n",
      "tensor(49.1897, grad_fn=<L1LossBackward>)\n",
      "tensor(49.1641, grad_fn=<L1LossBackward>)\n",
      "tensor(49.1386, grad_fn=<L1LossBackward>)\n",
      "tensor(49.1135, grad_fn=<L1LossBackward>)\n",
      "tensor(49.0884, grad_fn=<L1LossBackward>)\n",
      "tensor(49.0633, grad_fn=<L1LossBackward>)\n",
      "tensor(49.0382, grad_fn=<L1LossBackward>)\n",
      "tensor(49.0128, grad_fn=<L1LossBackward>)\n",
      "tensor(48.9874, grad_fn=<L1LossBackward>)\n",
      "tensor(48.9622, grad_fn=<L1LossBackward>)\n",
      "tensor(48.9371, grad_fn=<L1LossBackward>)\n",
      "tensor(48.9122, grad_fn=<L1LossBackward>)\n",
      "tensor(48.8874, grad_fn=<L1LossBackward>)\n",
      "tensor(48.8625, grad_fn=<L1LossBackward>)\n",
      "tensor(48.8375, grad_fn=<L1LossBackward>)\n",
      "tensor(48.8124, grad_fn=<L1LossBackward>)\n",
      "tensor(48.7872, grad_fn=<L1LossBackward>)\n",
      "tensor(48.7623, grad_fn=<L1LossBackward>)\n",
      "tensor(48.7371, grad_fn=<L1LossBackward>)\n",
      "tensor(48.7120, grad_fn=<L1LossBackward>)\n",
      "tensor(48.6867, grad_fn=<L1LossBackward>)\n",
      "tensor(48.6613, grad_fn=<L1LossBackward>)\n",
      "tensor(48.6359, grad_fn=<L1LossBackward>)\n",
      "tensor(48.6103, grad_fn=<L1LossBackward>)\n",
      "tensor(48.5846, grad_fn=<L1LossBackward>)\n"
     ]
    }
   ],
   "source": [
    "loss_arr =[]\n",
    "label = y_noise\n",
    "\n",
    "for i in range(num_epoch):\n",
    "    optimizer.zero_grad()\n",
    "    output = model(x)\n",
    "\n",
    "    loss = loss_func(output,label)\n",
    "    loss.backward()\n",
    "    optimizer.step()\n",
    "    \n",
    "    if i % 100 ==0:\n",
    "        print(loss)\n",
    "    \n",
    "    #loss_arr.append(loss.cpu().data.numpy()[0])\n",
    "    loss_arr.append(loss.item())"
   ]
  },
  {
   "cell_type": "code",
   "execution_count": 7,
   "metadata": {},
   "outputs": [
    {
     "name": "stdout",
     "output_type": "stream",
     "text": [
      "[Parameter containing:\n",
      "tensor([[-1.8169],\n",
      "        [-2.6978],\n",
      "        [-0.1183],\n",
      "        [-0.0274],\n",
      "        [-0.6514],\n",
      "        [-0.5396]], requires_grad=True), Parameter containing:\n",
      "tensor([-0.2735, -0.6213,  0.3988, -0.4106,  0.6218,  0.2463],\n",
      "       requires_grad=True), Parameter containing:\n",
      "tensor([[ 1.7570,  2.5784, -0.1890, -0.1068,  0.4831,  0.4052]],\n",
      "       requires_grad=True), Parameter containing:\n",
      "tensor([1.0546], requires_grad=True)]\n"
     ]
    }
   ],
   "source": [
    "param_list = list(model.parameters())\n",
    "print(param_list)"
   ]
  },
  {
   "cell_type": "markdown",
   "metadata": {},
   "source": [
    "## 5. Visualize Trained Output"
   ]
  },
  {
   "cell_type": "code",
   "execution_count": 8,
   "metadata": {},
   "outputs": [],
   "source": [
    "win2=viz.scatter(\n",
    "    X = torch.cat([x, output],1),\n",
    "    opts=dict(\n",
    "        xtickmin=-15,\n",
    "        xtickmax=10,\n",
    "        xtickstep=1,\n",
    "        ytickmin=0,\n",
    "        ytickmax=500,\n",
    "        ytickstep=1,\n",
    "        markersymbol='dot',\n",
    "        markercolor=np.random.randint(0, 255, num_data),\n",
    "        markersize=5,\n",
    "    ),\n",
    ")\n"
   ]
  },
  {
   "cell_type": "markdown",
   "metadata": {},
   "source": [
    "## 6. Visualize Loss Graph"
   ]
  },
  {
   "cell_type": "code",
   "execution_count": 9,
   "metadata": {},
   "outputs": [],
   "source": [
    "x = np.reshape([i for i in range(num_epoch)],newshape=[num_epoch,1])\n",
    "loss_data = np.reshape(loss_arr,newshape=[num_epoch,1])\n",
    "\n",
    "win3=viz.line(\n",
    "    X = x,\n",
    "    Y = loss_data,\n",
    ")"
   ]
  }
 ],
 "metadata": {
  "kernelspec": {
   "display_name": "Python 3",
   "language": "python",
   "name": "python3"
  },
  "language_info": {
   "codemirror_mode": {
    "name": "ipython",
    "version": 3
   },
   "file_extension": ".py",
   "mimetype": "text/x-python",
   "name": "python",
   "nbconvert_exporter": "python",
   "pygments_lexer": "ipython3",
   "version": "3.7.1"
  }
 },
 "nbformat": 4,
 "nbformat_minor": 1
}
