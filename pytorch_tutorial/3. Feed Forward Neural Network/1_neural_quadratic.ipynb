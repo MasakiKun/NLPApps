{
 "cells": [
  {
   "cell_type": "markdown",
   "metadata": {},
   "source": [
    "# Neural Network with Quadratic Data\n",
    "출처: https://github.com/GunhoChoi/PyTorch-FastCampus/blob/master/02_Regression%26NN/1_NN_code/1d_data/0_neural_quadratic.ipynb\n",
    "- y = 8x^2+7x+3\n",
    "- 4 hidden layers\n",
    "\n",
    "<img src=\"./quadratic.png\">\n",
    "\n",
    "사진출처: http://cs.franklin.edu/~sieberth/MATH160/bookFiles/Chapter3/333371_0307_317-323.pdf "
   ]
  },
  {
   "cell_type": "markdown",
   "metadata": {},
   "source": [
    "## 1.Import Required Libraries"
   ]
  },
  {
   "cell_type": "code",
   "execution_count": 2,
   "metadata": {},
   "outputs": [
    {
     "name": "stderr",
     "output_type": "stream",
     "text": [
      "WARNING:root:Setting up a new session...\n"
     ]
    }
   ],
   "source": [
    "import numpy as np\n",
    "import torch\n",
    "import torch.nn as nn\n",
    "import torch.optim as optim\n",
    "import torch.nn.init as init\n",
    "from torch.autograd import Variable\n",
    "from visdom import Visdom\n",
    "viz = Visdom()"
   ]
  },
  {
   "cell_type": "markdown",
   "metadata": {},
   "source": [
    "## 2. Data Generation"
   ]
  },
  {
   "cell_type": "code",
   "execution_count": 3,
   "metadata": {},
   "outputs": [
    {
     "name": "stderr",
     "output_type": "stream",
     "text": [
      "/anaconda3/envs/NLPApps/lib/python3.7/site-packages/ipykernel_launcher.py:4: UserWarning: nn.init.normal is now deprecated in favor of nn.init.normal_.\n",
      "  after removing the cwd from sys.path.\n",
      "/anaconda3/envs/NLPApps/lib/python3.7/site-packages/ipykernel_launcher.py:6: UserWarning: nn.init.uniform is now deprecated in favor of nn.init.uniform_.\n",
      "  \n"
     ]
    }
   ],
   "source": [
    "num_data = 1000\n",
    "num_epoch = 5000\n",
    "\n",
    "noise = init.normal(torch.FloatTensor(num_data,1),std=3)\n",
    "\n",
    "x = init.uniform(torch.Tensor(num_data,1),-15,15)\n",
    "y = (x**2) + 3 \n",
    "\n",
    "y_noise = y + noise"
   ]
  },
  {
   "cell_type": "code",
   "execution_count": 4,
   "metadata": {},
   "outputs": [],
   "source": [
    "# visualize data\n",
    "\n",
    "input_data = torch.cat([x,y_noise],1)\n",
    "\n",
    "win=viz.scatter(\n",
    "    X = input_data,\n",
    "    opts=dict(\n",
    "        xtickmin=-15,\n",
    "        xtickmax=15,\n",
    "        xtickstep=1,\n",
    "        ytickmin=0,\n",
    "        ytickmax=500,\n",
    "        ytickstep=1,\n",
    "        markersymbol='dot',\n",
    "        markercolor=np.random.randint(0, 255, num_data),\n",
    "        markersize=5,\n",
    "    ),\n",
    ")\n"
   ]
  },
  {
   "cell_type": "code",
   "execution_count": 5,
   "metadata": {},
   "outputs": [],
   "source": [
    "\n",
    "win=viz.scatter(\n",
    "    X = torch.cat([x,y],1),\n",
    "    opts=dict(\n",
    "        xtickmin=-15,\n",
    "        xtickmax=15,\n",
    "        xtickstep=1,\n",
    "        ytickmin=0,\n",
    "        ytickmax=500,\n",
    "        ytickstep=1,\n",
    "        markersymbol='dot',\n",
    "        markercolor=np.random.randint(0, 255, num_data),\n",
    "        markersize=5,\n",
    "    ),\n",
    ")\n"
   ]
  },
  {
   "cell_type": "markdown",
   "metadata": {},
   "source": [
    "## 3. Model & Optimizer"
   ]
  },
  {
   "cell_type": "code",
   "execution_count": 6,
   "metadata": {},
   "outputs": [],
   "source": [
    "# fully connected model with 4 hidden layer\n",
    "\n",
    "model = nn.Sequential(\n",
    "        nn.Linear(1,6),\n",
    "        nn.ReLU(),\n",
    "        nn.Linear(6,1)\n",
    "    )\n",
    "\n",
    "loss_func = nn.L1Loss()\n",
    "optimizer = optim.SGD(model.parameters(),lr=0.001)"
   ]
  },
  {
   "cell_type": "markdown",
   "metadata": {},
   "source": [
    "## 4. Train "
   ]
  },
  {
   "cell_type": "code",
   "execution_count": 7,
   "metadata": {
    "scrolled": true
   },
   "outputs": [
    {
     "name": "stdout",
     "output_type": "stream",
     "text": [
      "tensor(80.8873, grad_fn=<L1LossBackward>)\n",
      "tensor(75.1028, grad_fn=<L1LossBackward>)\n",
      "tensor(66.6297, grad_fn=<L1LossBackward>)\n",
      "tensor(53.1860, grad_fn=<L1LossBackward>)\n",
      "tensor(39.7944, grad_fn=<L1LossBackward>)\n",
      "tensor(29.8248, grad_fn=<L1LossBackward>)\n",
      "tensor(23.4841, grad_fn=<L1LossBackward>)\n",
      "tensor(21.8903, grad_fn=<L1LossBackward>)\n",
      "tensor(21.6660, grad_fn=<L1LossBackward>)\n",
      "tensor(21.5617, grad_fn=<L1LossBackward>)\n",
      "tensor(21.4644, grad_fn=<L1LossBackward>)\n",
      "tensor(21.3698, grad_fn=<L1LossBackward>)\n",
      "tensor(21.2784, grad_fn=<L1LossBackward>)\n",
      "tensor(21.1902, grad_fn=<L1LossBackward>)\n",
      "tensor(21.1031, grad_fn=<L1LossBackward>)\n",
      "tensor(21.0179, grad_fn=<L1LossBackward>)\n",
      "tensor(20.9351, grad_fn=<L1LossBackward>)\n",
      "tensor(20.8537, grad_fn=<L1LossBackward>)\n",
      "tensor(20.7724, grad_fn=<L1LossBackward>)\n",
      "tensor(20.6913, grad_fn=<L1LossBackward>)\n",
      "tensor(20.6118, grad_fn=<L1LossBackward>)\n",
      "tensor(20.5341, grad_fn=<L1LossBackward>)\n",
      "tensor(20.4580, grad_fn=<L1LossBackward>)\n",
      "tensor(20.3830, grad_fn=<L1LossBackward>)\n",
      "tensor(20.3080, grad_fn=<L1LossBackward>)\n",
      "tensor(20.2333, grad_fn=<L1LossBackward>)\n",
      "tensor(20.1591, grad_fn=<L1LossBackward>)\n",
      "tensor(20.0851, grad_fn=<L1LossBackward>)\n",
      "tensor(20.0113, grad_fn=<L1LossBackward>)\n",
      "tensor(19.9378, grad_fn=<L1LossBackward>)\n",
      "tensor(19.8673, grad_fn=<L1LossBackward>)\n",
      "tensor(19.7967, grad_fn=<L1LossBackward>)\n",
      "tensor(19.7270, grad_fn=<L1LossBackward>)\n",
      "tensor(19.6572, grad_fn=<L1LossBackward>)\n",
      "tensor(19.5871, grad_fn=<L1LossBackward>)\n",
      "tensor(19.5166, grad_fn=<L1LossBackward>)\n",
      "tensor(19.4475, grad_fn=<L1LossBackward>)\n",
      "tensor(19.3787, grad_fn=<L1LossBackward>)\n",
      "tensor(19.3090, grad_fn=<L1LossBackward>)\n",
      "tensor(19.2394, grad_fn=<L1LossBackward>)\n",
      "tensor(19.1716, grad_fn=<L1LossBackward>)\n",
      "tensor(19.1030, grad_fn=<L1LossBackward>)\n",
      "tensor(19.0339, grad_fn=<L1LossBackward>)\n",
      "tensor(18.9642, grad_fn=<L1LossBackward>)\n",
      "tensor(18.8961, grad_fn=<L1LossBackward>)\n",
      "tensor(18.8287, grad_fn=<L1LossBackward>)\n",
      "tensor(18.7610, grad_fn=<L1LossBackward>)\n",
      "tensor(18.6917, grad_fn=<L1LossBackward>)\n",
      "tensor(18.6216, grad_fn=<L1LossBackward>)\n",
      "tensor(18.5503, grad_fn=<L1LossBackward>)\n"
     ]
    }
   ],
   "source": [
    "loss_arr =[]\n",
    "label = y_noise\n",
    "\n",
    "for i in range(num_epoch):\n",
    "    optimizer.zero_grad()\n",
    "    output = model(x)\n",
    "\n",
    "    loss = loss_func(output,label)\n",
    "    loss.backward()\n",
    "    optimizer.step()\n",
    "    \n",
    "    if i % 100 ==0:\n",
    "        print(loss)\n",
    "    \n",
    "    #loss_arr.append(loss.cpu().data.numpy()[0])\n",
    "    loss_arr.append(loss.item())"
   ]
  },
  {
   "cell_type": "code",
   "execution_count": 8,
   "metadata": {},
   "outputs": [
    {
     "name": "stdout",
     "output_type": "stream",
     "text": [
      "[Parameter containing:\n",
      "tensor([[-0.3473],\n",
      "        [ 2.3066],\n",
      "        [ 2.1561],\n",
      "        [ 1.2727],\n",
      "        [ 0.8066],\n",
      "        [-3.3050]], requires_grad=True), Parameter containing:\n",
      "tensor([ 0.5517, -0.6659, -0.8198, -0.9582, -0.3850, -1.7393],\n",
      "       requires_grad=True), Parameter containing:\n",
      "tensor([[-0.0740,  2.1022,  2.0552,  1.4345,  0.6932,  3.6068]],\n",
      "       requires_grad=True), Parameter containing:\n",
      "tensor([-1.3463], requires_grad=True)]\n"
     ]
    }
   ],
   "source": [
    "param_list = list(model.parameters())\n",
    "print(param_list)"
   ]
  },
  {
   "cell_type": "markdown",
   "metadata": {},
   "source": [
    "## 5. Visualize Trained Output"
   ]
  },
  {
   "cell_type": "code",
   "execution_count": 9,
   "metadata": {},
   "outputs": [],
   "source": [
    "win2=viz.scatter(\n",
    "    X = torch.cat([x, output],1),\n",
    "    opts=dict(\n",
    "        xtickmin=-15,\n",
    "        xtickmax=10,\n",
    "        xtickstep=1,\n",
    "        ytickmin=0,\n",
    "        ytickmax=500,\n",
    "        ytickstep=1,\n",
    "        markersymbol='dot',\n",
    "        markercolor=np.random.randint(0, 255, num_data),\n",
    "        markersize=5,\n",
    "    ),\n",
    ")\n"
   ]
  },
  {
   "cell_type": "markdown",
   "metadata": {},
   "source": [
    "## 6. Visualize Loss Graph"
   ]
  },
  {
   "cell_type": "code",
   "execution_count": 10,
   "metadata": {},
   "outputs": [],
   "source": [
    "x = np.reshape([i for i in range(num_epoch)],newshape=[num_epoch,1])\n",
    "loss_data = np.reshape(loss_arr,newshape=[num_epoch,1])\n",
    "\n",
    "win3=viz.line(\n",
    "    X = x,\n",
    "    Y = loss_data,\n",
    ")"
   ]
  }
 ],
 "metadata": {
  "kernelspec": {
   "display_name": "Python 3",
   "language": "python",
   "name": "python3"
  },
  "language_info": {
   "codemirror_mode": {
    "name": "ipython",
    "version": 3
   },
   "file_extension": ".py",
   "mimetype": "text/x-python",
   "name": "python",
   "nbconvert_exporter": "python",
   "pygments_lexer": "ipython3",
   "version": "3.7.1"
  }
 },
 "nbformat": 4,
 "nbformat_minor": 1
}
