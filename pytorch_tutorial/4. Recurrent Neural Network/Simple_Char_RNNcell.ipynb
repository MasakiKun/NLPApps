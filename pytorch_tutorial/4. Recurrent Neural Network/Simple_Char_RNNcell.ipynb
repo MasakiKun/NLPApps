{
 "cells": [
  {
   "cell_type": "markdown",
   "metadata": {},
   "source": [
    "# Simple RNN Practice\n",
    "\n",
    "![alt text](./SimpleRNN.png)\n",
    "\n",
    "## 1. Settings\n",
    "\n",
    "### 1) Import Required Libraries"
   ]
  },
  {
   "cell_type": "code",
   "execution_count": 1,
   "metadata": {},
   "outputs": [],
   "source": [
    "import torch \n",
    "import torch.nn as nn\n",
    "import torch.optim as optim\n",
    "from torch.autograd import Variable\n",
    "import numpy as np"
   ]
  },
  {
   "cell_type": "markdown",
   "metadata": {},
   "source": [
    "### 2) Hyperparameter & Data"
   ]
  },
  {
   "cell_type": "code",
   "execution_count": 2,
   "metadata": {},
   "outputs": [],
   "source": [
    "# Preprocessing string data\n",
    "# alphabet(0-25), others(26~32), start(33), end(34) -> 35 chars\n",
    "\n",
    "n_hidden = 50 \n",
    "lr = 0.01\n",
    "epochs = 2000\n",
    "\n",
    "string = \"hello pytorch.how long can a rnn cell remember?\"# show us your limit!\"\n",
    "chars = \"abcdefghijklmnopqrstuvwxyz ?!.,:;01\"\n",
    "char_list = [i for i in chars]\n",
    "char_len = len(char_list)\n",
    "n_letters = len(char_list)"
   ]
  },
  {
   "cell_type": "markdown",
   "metadata": {},
   "source": [
    "### 3) String to One-hot"
   ]
  },
  {
   "cell_type": "code",
   "execution_count": 3,
   "metadata": {},
   "outputs": [],
   "source": [
    "# String to onehot vector\n",
    "# a -> [1 0 0 ... 0 0]\n",
    "\n",
    "def string_to_onehot(string):\n",
    "    start = np.zeros(shape=len(char_list) ,dtype=int)\n",
    "    end = np.zeros(shape=len(char_list) ,dtype=int)\n",
    "    start[-2] = 1\n",
    "    end[-1] = 1\n",
    "    for i in string:\n",
    "        idx = char_list.index(i)\n",
    "        zero = np.zeros(shape=char_len ,dtype=int)\n",
    "        zero[idx]=1\n",
    "        start = np.vstack([start,zero])\n",
    "    output = np.vstack([start,end])\n",
    "    return output"
   ]
  },
  {
   "cell_type": "markdown",
   "metadata": {},
   "source": [
    "### 4) One-hot to Character"
   ]
  },
  {
   "cell_type": "code",
   "execution_count": 4,
   "metadata": {},
   "outputs": [],
   "source": [
    "# Onehot vector to word\n",
    "# [1 0 0 ... 0 0] -> a \n",
    "\n",
    "def onehot_to_word(onehot_1):\n",
    "    onehot = torch.Tensor.numpy(onehot_1)\n",
    "    return char_list[onehot.argmax()]"
   ]
  },
  {
   "cell_type": "markdown",
   "metadata": {},
   "source": [
    "## 2. RNN class"
   ]
  },
  {
   "cell_type": "code",
   "execution_count": 5,
   "metadata": {},
   "outputs": [],
   "source": [
    "# RNN with 1 hidden layer\n",
    "\n",
    "class RNN(nn.Module):\n",
    "    def __init__(self, input_size, hidden_size, output_size):\n",
    "        super(RNN, self).__init__()\n",
    "        \n",
    "        self.input_size = input_size\n",
    "        self.hidden_size = hidden_size\n",
    "        self.output_size = output_size\n",
    "        \n",
    "        self.i2h = nn.Linear(input_size, hidden_size)\n",
    "        self.h2h = nn.Linear(hidden_size, hidden_size)\n",
    "        self.i2o = nn.Linear(hidden_size, output_size)\n",
    "        self.act_fn = nn.Tanh()\n",
    "    \n",
    "    def forward(self, input, hidden):\n",
    "        hidden = self.act_fn(self.i2h(input)+self.h2h(hidden))\n",
    "        output = self.i2o(hidden)\n",
    "        return output, hidden\n",
    "\n",
    "    def init_hidden(self):\n",
    "        return torch.zeros(1, self.hidden_size)\n",
    "    \n",
    "rnn = RNN(n_letters, n_hidden, n_letters)"
   ]
  },
  {
   "cell_type": "markdown",
   "metadata": {},
   "source": [
    "## 3. Loss function & Optimizer"
   ]
  },
  {
   "cell_type": "code",
   "execution_count": 6,
   "metadata": {},
   "outputs": [],
   "source": [
    "loss_func = nn.MSELoss()\n",
    "optimizer = torch.optim.Adam(rnn.parameters(), lr=lr)"
   ]
  },
  {
   "cell_type": "markdown",
   "metadata": {},
   "source": [
    "## 4. Train"
   ]
  },
  {
   "cell_type": "code",
   "execution_count": 7,
   "metadata": {},
   "outputs": [
    {
     "name": "stdout",
     "output_type": "stream",
     "text": [
      "tensor(2.2712, grad_fn=<AddBackward0>)\n",
      "tensor(0.7791, grad_fn=<AddBackward0>)\n",
      "tensor(0.4090, grad_fn=<AddBackward0>)\n",
      "tensor(0.2203, grad_fn=<AddBackward0>)\n",
      "tensor(0.1319, grad_fn=<AddBackward0>)\n",
      "tensor(0.0865, grad_fn=<AddBackward0>)\n",
      "tensor(0.0597, grad_fn=<AddBackward0>)\n",
      "tensor(0.0422, grad_fn=<AddBackward0>)\n",
      "tensor(0.0324, grad_fn=<AddBackward0>)\n",
      "tensor(0.0238, grad_fn=<AddBackward0>)\n",
      "tensor(0.0162, grad_fn=<AddBackward0>)\n",
      "tensor(0.0139, grad_fn=<AddBackward0>)\n",
      "tensor(0.0122, grad_fn=<AddBackward0>)\n",
      "tensor(0.0081, grad_fn=<AddBackward0>)\n",
      "tensor(0.0054, grad_fn=<AddBackward0>)\n",
      "tensor(0.0042, grad_fn=<AddBackward0>)\n",
      "tensor(0.0033, grad_fn=<AddBackward0>)\n",
      "tensor(0.0027, grad_fn=<AddBackward0>)\n",
      "tensor(0.0103, grad_fn=<AddBackward0>)\n",
      "tensor(0.0044, grad_fn=<AddBackward0>)\n",
      "tensor(0.0025, grad_fn=<AddBackward0>)\n",
      "tensor(0.0016, grad_fn=<AddBackward0>)\n",
      "tensor(0.0012, grad_fn=<AddBackward0>)\n",
      "tensor(0.0009, grad_fn=<AddBackward0>)\n",
      "tensor(0.0011, grad_fn=<AddBackward0>)\n",
      "tensor(0.0021, grad_fn=<AddBackward0>)\n",
      "tensor(0.0010, grad_fn=<AddBackward0>)\n",
      "tensor(0.0006, grad_fn=<AddBackward0>)\n",
      "tensor(0.0004, grad_fn=<AddBackward0>)\n",
      "tensor(0.0003, grad_fn=<AddBackward0>)\n",
      "tensor(0.0002, grad_fn=<AddBackward0>)\n",
      "tensor(0.0002, grad_fn=<AddBackward0>)\n",
      "tensor(0.0001, grad_fn=<AddBackward0>)\n",
      "tensor(0.0072, grad_fn=<AddBackward0>)\n",
      "tensor(0.0016, grad_fn=<AddBackward0>)\n",
      "tensor(0.0004, grad_fn=<AddBackward0>)\n",
      "tensor(0.0002, grad_fn=<AddBackward0>)\n",
      "tensor(9.9951e-05, grad_fn=<AddBackward0>)\n",
      "tensor(5.5485e-05, grad_fn=<AddBackward0>)\n",
      "tensor(3.5103e-05, grad_fn=<AddBackward0>)\n",
      "tensor(2.5400e-05, grad_fn=<AddBackward0>)\n",
      "tensor(1.8773e-05, grad_fn=<AddBackward0>)\n",
      "tensor(1.4538e-05, grad_fn=<AddBackward0>)\n",
      "tensor(1.1406e-05, grad_fn=<AddBackward0>)\n",
      "tensor(9.0656e-06, grad_fn=<AddBackward0>)\n",
      "tensor(7.2498e-06, grad_fn=<AddBackward0>)\n",
      "tensor(5.8248e-06, grad_fn=<AddBackward0>)\n",
      "tensor(4.6938e-06, grad_fn=<AddBackward0>)\n",
      "tensor(3.7898e-06, grad_fn=<AddBackward0>)\n",
      "tensor(3.0637e-06, grad_fn=<AddBackward0>)\n",
      "tensor(2.5509e-06, grad_fn=<AddBackward0>)\n",
      "tensor(5.2971e-05, grad_fn=<AddBackward0>)\n",
      "tensor(0.0016, grad_fn=<AddBackward0>)\n",
      "tensor(0.0006, grad_fn=<AddBackward0>)\n",
      "tensor(0.0002, grad_fn=<AddBackward0>)\n",
      "tensor(9.1706e-05, grad_fn=<AddBackward0>)\n",
      "tensor(3.4725e-05, grad_fn=<AddBackward0>)\n",
      "tensor(8.5924e-06, grad_fn=<AddBackward0>)\n",
      "tensor(3.8306e-06, grad_fn=<AddBackward0>)\n",
      "tensor(1.7572e-06, grad_fn=<AddBackward0>)\n",
      "tensor(7.9482e-07, grad_fn=<AddBackward0>)\n",
      "tensor(3.7758e-07, grad_fn=<AddBackward0>)\n",
      "tensor(2.3942e-07, grad_fn=<AddBackward0>)\n",
      "tensor(1.6842e-07, grad_fn=<AddBackward0>)\n",
      "tensor(2.5997e-06, grad_fn=<AddBackward0>)\n",
      "tensor(0.0009, grad_fn=<AddBackward0>)\n",
      "tensor(0.0007, grad_fn=<AddBackward0>)\n",
      "tensor(0.0002, grad_fn=<AddBackward0>)\n",
      "tensor(4.1248e-05, grad_fn=<AddBackward0>)\n",
      "tensor(1.2664e-05, grad_fn=<AddBackward0>)\n",
      "tensor(5.6762e-06, grad_fn=<AddBackward0>)\n",
      "tensor(2.7760e-06, grad_fn=<AddBackward0>)\n",
      "tensor(1.0471e-06, grad_fn=<AddBackward0>)\n",
      "tensor(5.7087e-07, grad_fn=<AddBackward0>)\n",
      "tensor(2.2914e-06, grad_fn=<AddBackward0>)\n",
      "tensor(0.0002, grad_fn=<AddBackward0>)\n",
      "tensor(0.0003, grad_fn=<AddBackward0>)\n",
      "tensor(7.5565e-05, grad_fn=<AddBackward0>)\n",
      "tensor(2.7616e-05, grad_fn=<AddBackward0>)\n",
      "tensor(1.1918e-05, grad_fn=<AddBackward0>)\n",
      "tensor(2.4807e-06, grad_fn=<AddBackward0>)\n",
      "tensor(1.7903e-06, grad_fn=<AddBackward0>)\n",
      "tensor(6.9308e-07, grad_fn=<AddBackward0>)\n",
      "tensor(3.4618e-07, grad_fn=<AddBackward0>)\n",
      "tensor(1.4224e-06, grad_fn=<AddBackward0>)\n",
      "tensor(0.0001, grad_fn=<AddBackward0>)\n",
      "tensor(0.0015, grad_fn=<AddBackward0>)\n",
      "tensor(0.0002, grad_fn=<AddBackward0>)\n",
      "tensor(7.1287e-05, grad_fn=<AddBackward0>)\n",
      "tensor(3.8815e-05, grad_fn=<AddBackward0>)\n",
      "tensor(1.5486e-05, grad_fn=<AddBackward0>)\n",
      "tensor(4.6496e-06, grad_fn=<AddBackward0>)\n",
      "tensor(4.2887e-06, grad_fn=<AddBackward0>)\n",
      "tensor(0.0001, grad_fn=<AddBackward0>)\n",
      "tensor(0.0003, grad_fn=<AddBackward0>)\n",
      "tensor(0.0001, grad_fn=<AddBackward0>)\n",
      "tensor(2.7948e-05, grad_fn=<AddBackward0>)\n",
      "tensor(5.2640e-06, grad_fn=<AddBackward0>)\n",
      "tensor(1.8158e-06, grad_fn=<AddBackward0>)\n",
      "tensor(1.4863e-06, grad_fn=<AddBackward0>)\n",
      "tensor(7.9776e-07, grad_fn=<AddBackward0>)\n",
      "tensor(2.4263e-07, grad_fn=<AddBackward0>)\n",
      "tensor(2.6527e-06, grad_fn=<AddBackward0>)\n",
      "tensor(0.0002, grad_fn=<AddBackward0>)\n",
      "tensor(0.0009, grad_fn=<AddBackward0>)\n",
      "tensor(0.0002, grad_fn=<AddBackward0>)\n",
      "tensor(5.0308e-05, grad_fn=<AddBackward0>)\n",
      "tensor(3.2106e-05, grad_fn=<AddBackward0>)\n",
      "tensor(7.5799e-06, grad_fn=<AddBackward0>)\n",
      "tensor(2.5010e-06, grad_fn=<AddBackward0>)\n",
      "tensor(1.5560e-06, grad_fn=<AddBackward0>)\n",
      "tensor(4.4508e-07, grad_fn=<AddBackward0>)\n",
      "tensor(1.5130e-07, grad_fn=<AddBackward0>)\n",
      "tensor(2.9841e-08, grad_fn=<AddBackward0>)\n",
      "tensor(2.0975e-08, grad_fn=<AddBackward0>)\n",
      "tensor(2.8046e-08, grad_fn=<AddBackward0>)\n",
      "tensor(1.5999e-06, grad_fn=<AddBackward0>)\n",
      "tensor(0.0004, grad_fn=<AddBackward0>)\n",
      "tensor(0.0009, grad_fn=<AddBackward0>)\n",
      "tensor(0.0003, grad_fn=<AddBackward0>)\n",
      "tensor(0.0001, grad_fn=<AddBackward0>)\n",
      "tensor(5.1773e-05, grad_fn=<AddBackward0>)\n",
      "tensor(1.0785e-05, grad_fn=<AddBackward0>)\n",
      "tensor(5.4993e-06, grad_fn=<AddBackward0>)\n",
      "tensor(2.5299e-06, grad_fn=<AddBackward0>)\n",
      "tensor(2.2595e-05, grad_fn=<AddBackward0>)\n",
      "tensor(0.0016, grad_fn=<AddBackward0>)\n",
      "tensor(0.0004, grad_fn=<AddBackward0>)\n",
      "tensor(9.3087e-05, grad_fn=<AddBackward0>)\n",
      "tensor(4.9788e-05, grad_fn=<AddBackward0>)\n",
      "tensor(9.0344e-06, grad_fn=<AddBackward0>)\n",
      "tensor(7.0404e-06, grad_fn=<AddBackward0>)\n",
      "tensor(1.8370e-06, grad_fn=<AddBackward0>)\n",
      "tensor(6.0186e-07, grad_fn=<AddBackward0>)\n",
      "tensor(3.9021e-07, grad_fn=<AddBackward0>)\n",
      "tensor(1.0320e-06, grad_fn=<AddBackward0>)\n",
      "tensor(1.9291e-05, grad_fn=<AddBackward0>)\n",
      "tensor(0.0008, grad_fn=<AddBackward0>)\n",
      "tensor(0.0002, grad_fn=<AddBackward0>)\n",
      "tensor(0.0001, grad_fn=<AddBackward0>)\n",
      "tensor(4.8996e-05, grad_fn=<AddBackward0>)\n",
      "tensor(0.0002, grad_fn=<AddBackward0>)\n",
      "tensor(5.5565e-05, grad_fn=<AddBackward0>)\n",
      "tensor(4.5420e-05, grad_fn=<AddBackward0>)\n",
      "tensor(0.0003, grad_fn=<AddBackward0>)\n",
      "tensor(4.9927e-05, grad_fn=<AddBackward0>)\n",
      "tensor(1.2710e-05, grad_fn=<AddBackward0>)\n",
      "tensor(6.0160e-06, grad_fn=<AddBackward0>)\n",
      "tensor(2.0136e-06, grad_fn=<AddBackward0>)\n",
      "tensor(6.1231e-07, grad_fn=<AddBackward0>)\n",
      "tensor(9.9117e-06, grad_fn=<AddBackward0>)\n",
      "tensor(0.0005, grad_fn=<AddBackward0>)\n",
      "tensor(0.0004, grad_fn=<AddBackward0>)\n",
      "tensor(5.6667e-05, grad_fn=<AddBackward0>)\n",
      "tensor(1.9405e-05, grad_fn=<AddBackward0>)\n",
      "tensor(1.0037e-05, grad_fn=<AddBackward0>)\n",
      "tensor(5.6447e-06, grad_fn=<AddBackward0>)\n",
      "tensor(5.2428e-06, grad_fn=<AddBackward0>)\n",
      "tensor(0.0001, grad_fn=<AddBackward0>)\n",
      "tensor(0.0012, grad_fn=<AddBackward0>)\n",
      "tensor(0.0003, grad_fn=<AddBackward0>)\n",
      "tensor(0.0001, grad_fn=<AddBackward0>)\n",
      "tensor(7.6473e-05, grad_fn=<AddBackward0>)\n",
      "tensor(9.7574e-06, grad_fn=<AddBackward0>)\n",
      "tensor(8.6348e-06, grad_fn=<AddBackward0>)\n",
      "tensor(3.8208e-06, grad_fn=<AddBackward0>)\n",
      "tensor(1.0303e-06, grad_fn=<AddBackward0>)\n",
      "tensor(1.6908e-05, grad_fn=<AddBackward0>)\n",
      "tensor(0.0012, grad_fn=<AddBackward0>)\n",
      "tensor(0.0007, grad_fn=<AddBackward0>)\n",
      "tensor(0.0001, grad_fn=<AddBackward0>)\n",
      "tensor(3.6513e-05, grad_fn=<AddBackward0>)\n",
      "tensor(1.3869e-05, grad_fn=<AddBackward0>)\n",
      "tensor(9.5719e-06, grad_fn=<AddBackward0>)\n",
      "tensor(9.9830e-06, grad_fn=<AddBackward0>)\n",
      "tensor(5.6772e-05, grad_fn=<AddBackward0>)\n",
      "tensor(0.0001, grad_fn=<AddBackward0>)\n",
      "tensor(3.7003e-05, grad_fn=<AddBackward0>)\n",
      "tensor(6.0543e-05, grad_fn=<AddBackward0>)\n",
      "tensor(0.0002, grad_fn=<AddBackward0>)\n",
      "tensor(5.1441e-05, grad_fn=<AddBackward0>)\n",
      "tensor(0.0003, grad_fn=<AddBackward0>)\n",
      "tensor(3.1625e-05, grad_fn=<AddBackward0>)\n",
      "tensor(2.4117e-05, grad_fn=<AddBackward0>)\n",
      "tensor(1.0525e-05, grad_fn=<AddBackward0>)\n",
      "tensor(2.8689e-05, grad_fn=<AddBackward0>)\n",
      "tensor(0.0004, grad_fn=<AddBackward0>)\n",
      "tensor(9.5169e-05, grad_fn=<AddBackward0>)\n",
      "tensor(8.8895e-05, grad_fn=<AddBackward0>)\n",
      "tensor(0.0003, grad_fn=<AddBackward0>)\n",
      "tensor(9.0361e-05, grad_fn=<AddBackward0>)\n",
      "tensor(1.3759e-05, grad_fn=<AddBackward0>)\n",
      "tensor(3.3866e-05, grad_fn=<AddBackward0>)\n",
      "tensor(0.0003, grad_fn=<AddBackward0>)\n",
      "tensor(0.0002, grad_fn=<AddBackward0>)\n",
      "tensor(0.0001, grad_fn=<AddBackward0>)\n",
      "tensor(8.5974e-05, grad_fn=<AddBackward0>)\n",
      "tensor(2.6253e-05, grad_fn=<AddBackward0>)\n",
      "tensor(3.5632e-05, grad_fn=<AddBackward0>)\n"
     ]
    },
    {
     "name": "stdout",
     "output_type": "stream",
     "text": [
      "tensor(0.0006, grad_fn=<AddBackward0>)\n"
     ]
    }
   ],
   "source": [
    "one_hot = torch.from_numpy(string_to_onehot(string)).type_as(torch.FloatTensor())\n",
    "\n",
    "for i in range(epochs):\n",
    "    rnn.zero_grad()\n",
    "    total_loss = 0\n",
    "    hidden = rnn.init_hidden()\n",
    "\n",
    "    for j in range(one_hot.size()[0]-1):\n",
    "        input = one_hot[j:j+1,:]\n",
    "        output, hidden = rnn.forward(input, hidden)\n",
    "        target = one_hot[j+1]\n",
    "        loss = loss_func(output.view(-1),target.view(-1))\n",
    "        total_loss += loss\n",
    "        input = output\n",
    "\n",
    "    total_loss.backward()\n",
    "    optimizer.step()\n",
    "\n",
    "    if i % 10 == 0:\n",
    "        print(total_loss)"
   ]
  },
  {
   "cell_type": "markdown",
   "metadata": {},
   "source": [
    "## 5. Test"
   ]
  },
  {
   "cell_type": "code",
   "execution_count": 8,
   "metadata": {},
   "outputs": [
    {
     "name": "stdout",
     "output_type": "stream",
     "text": [
      "hello pytorch.how long can a rnn cell remember?"
     ]
    }
   ],
   "source": [
    "hidden = rnn.init_hidden()\n",
    "input = one_hot[0:1,:]\n",
    "\n",
    "for i in range(len(string)):\n",
    "    output, hidden = rnn.forward(input, hidden)\n",
    "    print(onehot_to_word(output.data),end=\"\")\n",
    "    input = output"
   ]
  }
 ],
 "metadata": {
  "kernelspec": {
   "display_name": "Python 3",
   "language": "python",
   "name": "python3"
  },
  "language_info": {
   "codemirror_mode": {
    "name": "ipython",
    "version": 3
   },
   "file_extension": ".py",
   "mimetype": "text/x-python",
   "name": "python",
   "nbconvert_exporter": "python",
   "pygments_lexer": "ipython3",
   "version": "3.7.1"
  }
 },
 "nbformat": 4,
 "nbformat_minor": 1
}
