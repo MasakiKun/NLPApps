{
 "cells": [
  {
   "cell_type": "code",
   "execution_count": null,
   "metadata": {},
   "outputs": [],
   "source": []
  },
  {
   "cell_type": "code",
   "execution_count": 1,
   "metadata": {},
   "outputs": [],
   "source": [
    "import torch\n",
    "import numpy as np"
   ]
  },
  {
   "cell_type": "code",
   "execution_count": 2,
   "metadata": {},
   "outputs": [],
   "source": [
    "#HyperParameter settings\n",
    "input_size = 1\n",
    "output_size = 1\n",
    "ephoc = 60\n",
    "learning_rate = 0.001"
   ]
  },
  {
   "cell_type": "code",
   "execution_count": 9,
   "metadata": {},
   "outputs": [],
   "source": [
    "#preparing data\n",
    "x_train = np.array([[3.3], [4.4], [5.5], [6.71], [6.93], [4.168], \n",
    "                    [9.779], [6.182], [7.59], [2.167], [7.042], \n",
    "                    [10.791], [5.313], [7.997], [3.1]], dtype=np.float32)\n",
    "\n",
    "y_train = np.array([[1.7], [2.76], [2.09], [3.19], [1.694], [1.573], \n",
    "                    [3.366], [2.596], [2.53], [1.221], [2.827], \n",
    "                    [3.465], [1.65], [2.904], [1.3]], dtype=np.float32)\n",
    "\n",
    "x_train = torch.FloatTensor([[3.3], [4.4], [5.5], [6.71], [6.93], [4.168], \n",
    "                    [9.779], [6.182], [7.59], [2.167], [7.042], \n",
    "                    [10.791], [5.313], [7.997], [3.1]])\n",
    "\n",
    "y_train = torch.FloatTensor([[1.7], [2.76], [2.09], [3.19], [1.694], [1.573], \n",
    "                    [3.366], [2.596], [2.53], [1.221], [2.827], \n",
    "                    [3.465], [1.65], [2.904], [1.3]])"
   ]
  },
  {
   "cell_type": "code",
   "execution_count": 4,
   "metadata": {},
   "outputs": [
    {
     "data": {
      "text/plain": [
       "'\\n#define Model\\nclass LinearModel(torch.nn.Module):\\n    \\n    #Init parameters\\n    def __init__(self, input_size, output_size):\\n        super(LinearModel, self).__init__()\\n        self.linear = torch.nn.Linear(input_size, output_size)\\n\\n    def forward(self, x):\\n        #print(x_train)\\n        out = self.linear(x)\\n        #print(out)\\n        return out\\n'"
      ]
     },
     "execution_count": 4,
     "metadata": {},
     "output_type": "execute_result"
    }
   ],
   "source": [
    "'''\n",
    "#define Model\n",
    "class LinearModel(torch.nn.Module):\n",
    "    \n",
    "    #Init parameters\n",
    "    def __init__(self, input_size, output_size):\n",
    "        super(LinearModel, self).__init__()\n",
    "        self.linear = torch.nn.Linear(input_size, output_size)\n",
    "\n",
    "    def forward(self, x):\n",
    "        #print(x_train)\n",
    "        out = self.linear(x)\n",
    "        #print(out)\n",
    "        return out\n",
    "'''\n"
   ]
  },
  {
   "cell_type": "code",
   "execution_count": 5,
   "metadata": {},
   "outputs": [],
   "source": [
    "#Model generation\n",
    "#lmodel = LinearModel(len(x_train[0]), len(y_train[0]))\n",
    "lmodel = torch.nn.Linear(1,1)"
   ]
  },
  {
   "cell_type": "code",
   "execution_count": 10,
   "metadata": {},
   "outputs": [
    {
     "name": "stdout",
     "output_type": "stream",
     "text": [
      "tensor([[-0.0082],\n",
      "        [-0.2336],\n",
      "        [-0.4590],\n",
      "        [-0.7069],\n",
      "        [-0.7519],\n",
      "        [-0.1861],\n",
      "        [-1.3356],\n",
      "        [-0.5987],\n",
      "        [-0.8872],\n",
      "        [ 0.2239],\n",
      "        [-0.7749],\n",
      "        [-1.5430],\n",
      "        [-0.4207],\n",
      "        [-0.9705],\n",
      "        [ 0.0327]], grad_fn=<AddmmBackward>)\n"
     ]
    }
   ],
   "source": [
    "output = lmodel(x_train)\n",
    "print(output)"
   ]
  },
  {
   "cell_type": "code",
   "execution_count": null,
   "metadata": {},
   "outputs": [],
   "source": [
    "#Loss Optimizer\n",
    "loss_function = torch.nn.MSELoss()\n",
    "optimizer = torch.optim.SGD(lmodel.parameters(), lr=learning_rate)"
   ]
  },
  {
   "cell_type": "code",
   "execution_count": null,
   "metadata": {},
   "outputs": [],
   "source": [
    "#forward, backward, gradient decent\n",
    "for i in range(ephoc):\n",
    "    print(\"ephoc\",i)\n",
    "\n",
    "    #input_data = torch.from_numpy(x_train)\n",
    "    #target_data = torch.from_numpy(y_train)\n",
    "    input_data = x_train\n",
    "    target_data = y_train\n",
    "    \n",
    "    #forward, backward, optimization\n",
    "    optimizer.zero_grad() #init grads of the optimizer\n",
    "    output = lmodel(input_data) #forward\n",
    "    \n",
    "    loss = loss_function(output, target_data)\n",
    "    #print(loss)\n",
    "    loss.backward()\n",
    "    optimizer.step()\n",
    "    \n",
    "    if (i+1) % 5 == 0:\n",
    "        print('Epoch [%d/%d], Loss: %.4f' %(i+1, ephoc, loss.item()))"
   ]
  }
 ],
 "metadata": {
  "kernelspec": {
   "display_name": "Python 3",
   "language": "python",
   "name": "python3"
  },
  "language_info": {
   "codemirror_mode": {
    "name": "ipython",
    "version": 3
   },
   "file_extension": ".py",
   "mimetype": "text/x-python",
   "name": "python",
   "nbconvert_exporter": "python",
   "pygments_lexer": "ipython3",
   "version": "3.7.1"
  }
 },
 "nbformat": 4,
 "nbformat_minor": 2
}
