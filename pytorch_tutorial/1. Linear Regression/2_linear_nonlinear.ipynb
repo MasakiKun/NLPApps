{
 "cells": [
  {
   "cell_type": "markdown",
   "metadata": {},
   "source": [
    "# Linear Regression\n",
    "\n",
    "- Non-Linear Data\n",
    "- Linear Model"
   ]
  },
  {
   "cell_type": "markdown",
   "metadata": {},
   "source": [
    "## 1. Import Required Libraries"
   ]
  },
  {
   "cell_type": "code",
   "execution_count": 1,
   "metadata": {},
   "outputs": [],
   "source": [
    "import numpy as np\n",
    "import torch\n",
    "import torch.nn as nn\n",
    "import torch.optim as optim\n",
    "import torch.nn.init as init\n",
    "from torch.autograd import Variable"
   ]
  },
  {
   "cell_type": "code",
   "execution_count": 2,
   "metadata": {},
   "outputs": [
    {
     "name": "stderr",
     "output_type": "stream",
     "text": [
      "WARNING:root:Setting up a new session...\n"
     ]
    }
   ],
   "source": [
    "# visdom is a visualization tool from facebook\n",
    "\n",
    "from visdom import Visdom\n",
    "viz = Visdom()"
   ]
  },
  {
   "cell_type": "markdown",
   "metadata": {},
   "source": [
    "## 2. Generate Data"
   ]
  },
  {
   "cell_type": "code",
   "execution_count": 5,
   "metadata": {},
   "outputs": [
    {
     "name": "stderr",
     "output_type": "stream",
     "text": [
      "/anaconda3/envs/NLPApps/lib/python3.7/site-packages/ipykernel_launcher.py:4: UserWarning: nn.init.normal is now deprecated in favor of nn.init.normal_.\n",
      "  after removing the cwd from sys.path.\n",
      "/anaconda3/envs/NLPApps/lib/python3.7/site-packages/ipykernel_launcher.py:5: UserWarning: nn.init.uniform is now deprecated in favor of nn.init.uniform_.\n",
      "  \"\"\"\n"
     ]
    }
   ],
   "source": [
    "num_data = 1000 \n",
    "num_epoch = 1000\n",
    "\n",
    "noise = init.normal(torch.FloatTensor(num_data,1),std=3)\n",
    "x = init.uniform(torch.Tensor(num_data,1),-15,10)\n",
    "y = -x**3 - 8*(x**2) + 3 \n",
    "\n",
    "y_noise = y + noise"
   ]
  },
  {
   "cell_type": "code",
   "execution_count": 6,
   "metadata": {},
   "outputs": [],
   "source": [
    "# visualize data with visdom\n",
    "\n",
    "# x, y+noise data\n",
    "input_data = torch.cat([x,y_noise],1)\n",
    "\n",
    "win=viz.scatter(\n",
    "    X = input_data,\n",
    "    opts=dict(\n",
    "        xtickmin=-15,\n",
    "        xtickmax=10,\n",
    "        xtickstep=1,\n",
    "        ytickmin=-300,\n",
    "        ytickmax=200,\n",
    "        ytickstep=1,\n",
    "        markersymbol='dot',\n",
    "        markercolor=np.random.randint(0, 255, num_data),\n",
    "        markersize=5,\n",
    "    ),\n",
    ")"
   ]
  },
  {
   "cell_type": "code",
   "execution_count": 28,
   "metadata": {},
   "outputs": [],
   "source": [
    "# x, y data\n",
    "win=viz.scatter(\n",
    "    X = torch.cat([x,y],1),\n",
    "    opts=dict(\n",
    "        xtickmin=-15,\n",
    "        xtickmax=10,\n",
    "        xtickstep=1,\n",
    "        ytickmin=-300,\n",
    "        ytickmax=200,\n",
    "        ytickstep=1,\n",
    "        markersymbol='dot',\n",
    "        markercolor=np.random.randint(0, 255, num_data),\n",
    "        markersize=5,\n",
    "    ),\n",
    ")"
   ]
  },
  {
   "cell_type": "markdown",
   "metadata": {},
   "source": [
    "### 3. Model & Optimizer"
   ]
  },
  {
   "cell_type": "code",
   "execution_count": 7,
   "metadata": {},
   "outputs": [],
   "source": [
    "model = nn.Linear(1,1)\n",
    "output = model(Variable(x))\n",
    "\n",
    "loss_func = nn.MSELoss()\n",
    "optimizer = optim.SGD(model.parameters(),lr=0.01)"
   ]
  },
  {
   "cell_type": "markdown",
   "metadata": {},
   "source": [
    "### 4. Train"
   ]
  },
  {
   "cell_type": "code",
   "execution_count": 8,
   "metadata": {},
   "outputs": [
    {
     "name": "stdout",
     "output_type": "stream",
     "text": [
      "tensor(380948.0938, grad_fn=<MseLossBackward>)\n",
      "tensor(129967.0938, grad_fn=<MseLossBackward>)\n",
      "tensor(118384.7969, grad_fn=<MseLossBackward>)\n",
      "tensor(110306.8203, grad_fn=<MseLossBackward>)\n",
      "tensor(104672.9141, grad_fn=<MseLossBackward>)\n",
      "tensor(100743.5938, grad_fn=<MseLossBackward>)\n",
      "tensor(98003.1250, grad_fn=<MseLossBackward>)\n",
      "tensor(96091.8047, grad_fn=<MseLossBackward>)\n",
      "tensor(94758.7734, grad_fn=<MseLossBackward>)\n",
      "tensor(93829.0625, grad_fn=<MseLossBackward>)\n",
      "tensor(93180.6406, grad_fn=<MseLossBackward>)\n",
      "tensor(92728.4141, grad_fn=<MseLossBackward>)\n",
      "tensor(92413., grad_fn=<MseLossBackward>)\n",
      "tensor(92193.0234, grad_fn=<MseLossBackward>)\n",
      "tensor(92039.6094, grad_fn=<MseLossBackward>)\n",
      "tensor(91932.6016, grad_fn=<MseLossBackward>)\n",
      "tensor(91857.9766, grad_fn=<MseLossBackward>)\n",
      "tensor(91805.9297, grad_fn=<MseLossBackward>)\n",
      "tensor(91769.6250, grad_fn=<MseLossBackward>)\n",
      "tensor(91744.3047, grad_fn=<MseLossBackward>)\n",
      "tensor(91726.6484, grad_fn=<MseLossBackward>)\n",
      "tensor(91714.3359, grad_fn=<MseLossBackward>)\n",
      "tensor(91705.7500, grad_fn=<MseLossBackward>)\n",
      "tensor(91699.7578, grad_fn=<MseLossBackward>)\n",
      "tensor(91695.5781, grad_fn=<MseLossBackward>)\n",
      "tensor(91692.6719, grad_fn=<MseLossBackward>)\n",
      "tensor(91690.6328, grad_fn=<MseLossBackward>)\n",
      "tensor(91689.2188, grad_fn=<MseLossBackward>)\n",
      "tensor(91688.2344, grad_fn=<MseLossBackward>)\n",
      "tensor(91687.5391, grad_fn=<MseLossBackward>)\n",
      "tensor(91687.0625, grad_fn=<MseLossBackward>)\n",
      "tensor(91686.7266, grad_fn=<MseLossBackward>)\n",
      "tensor(91686.4922, grad_fn=<MseLossBackward>)\n",
      "tensor(91686.3203, grad_fn=<MseLossBackward>)\n",
      "tensor(91686.2109, grad_fn=<MseLossBackward>)\n",
      "tensor(91686.1328, grad_fn=<MseLossBackward>)\n",
      "tensor(91686.0781, grad_fn=<MseLossBackward>)\n",
      "tensor(91686.0391, grad_fn=<MseLossBackward>)\n",
      "tensor(91686.0078, grad_fn=<MseLossBackward>)\n",
      "tensor(91685.9922, grad_fn=<MseLossBackward>)\n",
      "tensor(91685.9766, grad_fn=<MseLossBackward>)\n",
      "tensor(91685.9688, grad_fn=<MseLossBackward>)\n",
      "tensor(91685.9609, grad_fn=<MseLossBackward>)\n",
      "tensor(91685.9609, grad_fn=<MseLossBackward>)\n",
      "tensor(91685.9531, grad_fn=<MseLossBackward>)\n",
      "tensor(91685.9531, grad_fn=<MseLossBackward>)\n",
      "tensor(91685.9531, grad_fn=<MseLossBackward>)\n",
      "tensor(91685.9531, grad_fn=<MseLossBackward>)\n",
      "tensor(91685.9531, grad_fn=<MseLossBackward>)\n",
      "tensor(91685.9531, grad_fn=<MseLossBackward>)\n",
      "tensor(91685.9531, grad_fn=<MseLossBackward>)\n",
      "tensor(91685.9453, grad_fn=<MseLossBackward>)\n",
      "tensor(91685.9453, grad_fn=<MseLossBackward>)\n",
      "tensor(91685.9531, grad_fn=<MseLossBackward>)\n",
      "tensor(91685.9531, grad_fn=<MseLossBackward>)\n",
      "tensor(91685.9531, grad_fn=<MseLossBackward>)\n",
      "tensor(91685.9531, grad_fn=<MseLossBackward>)\n",
      "tensor(91685.9453, grad_fn=<MseLossBackward>)\n",
      "tensor(91685.9531, grad_fn=<MseLossBackward>)\n",
      "tensor(91685.9453, grad_fn=<MseLossBackward>)\n",
      "tensor(91685.9453, grad_fn=<MseLossBackward>)\n",
      "tensor(91685.9531, grad_fn=<MseLossBackward>)\n",
      "tensor(91685.9531, grad_fn=<MseLossBackward>)\n",
      "tensor(91685.9453, grad_fn=<MseLossBackward>)\n",
      "tensor(91685.9453, grad_fn=<MseLossBackward>)\n",
      "tensor(91685.9531, grad_fn=<MseLossBackward>)\n",
      "tensor(91685.9531, grad_fn=<MseLossBackward>)\n",
      "tensor(91685.9531, grad_fn=<MseLossBackward>)\n",
      "tensor(91685.9531, grad_fn=<MseLossBackward>)\n",
      "tensor(91685.9531, grad_fn=<MseLossBackward>)\n",
      "tensor(91685.9531, grad_fn=<MseLossBackward>)\n",
      "tensor(91685.9453, grad_fn=<MseLossBackward>)\n",
      "tensor(91685.9453, grad_fn=<MseLossBackward>)\n",
      "tensor(91685.9531, grad_fn=<MseLossBackward>)\n",
      "tensor(91685.9531, grad_fn=<MseLossBackward>)\n",
      "tensor(91685.9531, grad_fn=<MseLossBackward>)\n",
      "tensor(91685.9531, grad_fn=<MseLossBackward>)\n",
      "tensor(91685.9531, grad_fn=<MseLossBackward>)\n",
      "tensor(91685.9531, grad_fn=<MseLossBackward>)\n",
      "tensor(91685.9531, grad_fn=<MseLossBackward>)\n",
      "tensor(91685.9531, grad_fn=<MseLossBackward>)\n",
      "tensor(91685.9531, grad_fn=<MseLossBackward>)\n",
      "tensor(91685.9531, grad_fn=<MseLossBackward>)\n",
      "tensor(91685.9531, grad_fn=<MseLossBackward>)\n",
      "tensor(91685.9531, grad_fn=<MseLossBackward>)\n",
      "tensor(91685.9531, grad_fn=<MseLossBackward>)\n",
      "tensor(91685.9531, grad_fn=<MseLossBackward>)\n",
      "tensor(91685.9531, grad_fn=<MseLossBackward>)\n",
      "tensor(91685.9531, grad_fn=<MseLossBackward>)\n",
      "tensor(91685.9531, grad_fn=<MseLossBackward>)\n",
      "tensor(91685.9531, grad_fn=<MseLossBackward>)\n",
      "tensor(91685.9531, grad_fn=<MseLossBackward>)\n",
      "tensor(91685.9531, grad_fn=<MseLossBackward>)\n",
      "tensor(91685.9531, grad_fn=<MseLossBackward>)\n",
      "tensor(91685.9531, grad_fn=<MseLossBackward>)\n",
      "tensor(91685.9531, grad_fn=<MseLossBackward>)\n",
      "tensor(91685.9531, grad_fn=<MseLossBackward>)\n",
      "tensor(91685.9531, grad_fn=<MseLossBackward>)\n",
      "tensor(91685.9531, grad_fn=<MseLossBackward>)\n",
      "tensor(91685.9531, grad_fn=<MseLossBackward>)\n"
     ]
    }
   ],
   "source": [
    "# train\n",
    "loss_arr =[]\n",
    "label = Variable(y_noise)\n",
    "for i in range(num_epoch):\n",
    "    output = model(Variable(x))\n",
    "    optimizer.zero_grad()\n",
    "\n",
    "    loss = loss_func(output,label)\n",
    "    loss.backward()\n",
    "    optimizer.step()\n",
    "    if i % 10 == 0:\n",
    "        print(loss)\n",
    "    #loss_arr.append(loss.data.numpy()[0])\n",
    "    loss_arr.append(loss.item())"
   ]
  },
  {
   "cell_type": "markdown",
   "metadata": {},
   "source": [
    "### 5. Check Trained Parameters"
   ]
  },
  {
   "cell_type": "code",
   "execution_count": 9,
   "metadata": {},
   "outputs": [
    {
     "name": "stdout",
     "output_type": "stream",
     "text": [
      "tensor([[-73.7094]]) tensor([-245.6917])\n"
     ]
    }
   ],
   "source": [
    "param_list = list(model.parameters())\n",
    "print(param_list[0].data,param_list[1].data)"
   ]
  },
  {
   "cell_type": "markdown",
   "metadata": {},
   "source": [
    "### 6. Visualize output"
   ]
  },
  {
   "cell_type": "code",
   "execution_count": 10,
   "metadata": {},
   "outputs": [],
   "source": [
    "win_2=viz.scatter(\n",
    "    X = torch.cat([x,output.data],1),\n",
    "    opts=dict(\n",
    "        xtickmin=-15,\n",
    "        xtickmax=10,\n",
    "        xtickstep=1,\n",
    "        ytickmin=-300,\n",
    "        ytickmax=200,\n",
    "        ytickstep=1,\n",
    "        markersymbol='dot',\n",
    "        markercolor=np.random.randint(0, 255, num_data),\n",
    "        markersize=5,\n",
    "    ),\n",
    ")"
   ]
  },
  {
   "cell_type": "markdown",
   "metadata": {},
   "source": [
    "### 7. Visualize Loss Graph"
   ]
  },
  {
   "cell_type": "code",
   "execution_count": 11,
   "metadata": {},
   "outputs": [],
   "source": [
    "x = np.reshape([i for i in range(num_epoch)],newshape=[num_epoch,1])\n",
    "loss_data = np.reshape(loss_arr,newshape=[num_epoch,1])\n",
    "\n",
    "win2=viz.line(\n",
    "    X = x,\n",
    "    Y = loss_data,\n",
    ")"
   ]
  }
 ],
 "metadata": {
  "kernelspec": {
   "display_name": "Python 3",
   "language": "python",
   "name": "python3"
  },
  "language_info": {
   "codemirror_mode": {
    "name": "ipython",
    "version": 3
   },
   "file_extension": ".py",
   "mimetype": "text/x-python",
   "name": "python",
   "nbconvert_exporter": "python",
   "pygments_lexer": "ipython3",
   "version": "3.7.1"
  }
 },
 "nbformat": 4,
 "nbformat_minor": 1
}
