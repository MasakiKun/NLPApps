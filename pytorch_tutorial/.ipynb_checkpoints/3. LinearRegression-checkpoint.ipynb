{
 "cells": [
  {
   "cell_type": "code",
   "execution_count": 1,
   "metadata": {},
   "outputs": [
    {
     "name": "stdout",
     "output_type": "stream",
     "text": [
      "ephoc 0\n",
      "ephoc 1\n",
      "ephoc 2\n",
      "ephoc 3\n",
      "ephoc 4\n",
      "Epoch [5/60], Loss: 17.1498\n",
      "ephoc 5\n",
      "ephoc 6\n",
      "ephoc 7\n",
      "ephoc 8\n",
      "ephoc 9\n",
      "Epoch [10/60], Loss: 7.0799\n",
      "ephoc 10\n",
      "ephoc 11\n",
      "ephoc 12\n",
      "ephoc 13\n",
      "ephoc 14\n",
      "Epoch [15/60], Loss: 3.0003\n",
      "ephoc 15\n",
      "ephoc 16\n",
      "ephoc 17\n",
      "ephoc 18\n",
      "ephoc 19\n",
      "Epoch [20/60], Loss: 1.3475\n",
      "ephoc 20\n",
      "ephoc 21\n",
      "ephoc 22\n",
      "ephoc 23\n",
      "ephoc 24\n",
      "Epoch [25/60], Loss: 0.6779\n",
      "ephoc 25\n",
      "ephoc 26\n",
      "ephoc 27\n",
      "ephoc 28\n",
      "ephoc 29\n",
      "Epoch [30/60], Loss: 0.4065\n",
      "ephoc 30\n",
      "ephoc 31\n",
      "ephoc 32\n",
      "ephoc 33\n",
      "ephoc 34\n",
      "Epoch [35/60], Loss: 0.2965\n",
      "ephoc 35\n",
      "ephoc 36\n",
      "ephoc 37\n",
      "ephoc 38\n",
      "ephoc 39\n",
      "Epoch [40/60], Loss: 0.2519\n",
      "ephoc 40\n",
      "ephoc 41\n",
      "ephoc 42\n",
      "ephoc 43\n",
      "ephoc 44\n",
      "Epoch [45/60], Loss: 0.2337\n",
      "ephoc 45\n",
      "ephoc 46\n",
      "ephoc 47\n",
      "ephoc 48\n",
      "ephoc 49\n",
      "Epoch [50/60], Loss: 0.2262\n",
      "ephoc 50\n",
      "ephoc 51\n",
      "ephoc 52\n",
      "ephoc 53\n",
      "ephoc 54\n",
      "Epoch [55/60], Loss: 0.2232\n",
      "ephoc 55\n",
      "ephoc 56\n",
      "ephoc 57\n",
      "ephoc 58\n",
      "ephoc 59\n",
      "Epoch [60/60], Loss: 0.2218\n"
     ]
    }
   ],
   "source": [
    "\n",
    "\n",
    "        \n",
    "#Model generation\n",
    "lmodel = LinearModel(len(x_train[0]), len(y_train[0]))\n",
    "\n",
    "#Loss Optimizer\n",
    "loss_function = nn.MSELoss()\n",
    "optimizer = torch.optim.SGD(lmodel.parameters(), lr=learning_rate)\n",
    "\n",
    "#forward, backward, gradient decent\n",
    "for i in range(ephoc):\n",
    "    print(\"ephoc\",i)\n",
    "\n",
    "    input_data = torch.from_numpy(x_train)\n",
    "    target_data = torch.from_numpy(y_train)\n",
    "    \n",
    "    #forward, backward, optimization\n",
    "    optimizer.zero_grad() #init grads of the optimizer\n",
    "    output = lmodel(input_data) #forward\n",
    "    \n",
    "    loss = loss_function(output, target_data)\n",
    "    #print(loss)\n",
    "    loss.backward()\n",
    "    optimizer.step()\n",
    "    \n",
    "    if (i+1) % 5 == 0:\n",
    "        print('Epoch [%d/%d], Loss: %.4f' %(i+1, ephoc, loss.item()))\n",
    "    \n",
    "    "
   ]
  },
  {
   "cell_type": "code",
   "execution_count": null,
   "metadata": {},
   "outputs": [],
   "source": []
  },
  {
   "cell_type": "code",
   "execution_count": null,
   "metadata": {},
   "outputs": [],
   "source": [
    "import torch\n",
    "import torch.nn as nn\n",
    "import numpy as np"
   ]
  },
  {
   "cell_type": "code",
   "execution_count": null,
   "metadata": {},
   "outputs": [],
   "source": [
    "#HyperParameter settings\n",
    "input_size = 1\n",
    "output_size = 1\n",
    "ephoc = 60\n",
    "learning_rate = 0.001"
   ]
  },
  {
   "cell_type": "code",
   "execution_count": null,
   "metadata": {},
   "outputs": [],
   "source": [
    "#preparing data\n",
    "x_train = np.array([[3.3], [4.4], [5.5], [6.71], [6.93], [4.168], \n",
    "                    [9.779], [6.182], [7.59], [2.167], [7.042], \n",
    "                    [10.791], [5.313], [7.997], [3.1]], dtype=np.float32)\n",
    "\n",
    "y_train = np.array([[1.7], [2.76], [2.09], [3.19], [1.694], [1.573], \n",
    "                    [3.366], [2.596], [2.53], [1.221], [2.827], \n",
    "                    [3.465], [1.65], [2.904], [1.3]], dtype=np.float32)"
   ]
  },
  {
   "cell_type": "code",
   "execution_count": null,
   "metadata": {},
   "outputs": [],
   "source": []
  },
  {
   "cell_type": "code",
   "execution_count": null,
   "metadata": {},
   "outputs": [],
   "source": []
  },
  {
   "cell_type": "code",
   "execution_count": null,
   "metadata": {},
   "outputs": [],
   "source": []
  },
  {
   "cell_type": "code",
   "execution_count": null,
   "metadata": {},
   "outputs": [],
   "source": []
  }
 ],
 "metadata": {
  "kernelspec": {
   "display_name": "Python 3",
   "language": "python",
   "name": "python3"
  },
  "language_info": {
   "codemirror_mode": {
    "name": "ipython",
    "version": 3
   },
   "file_extension": ".py",
   "mimetype": "text/x-python",
   "name": "python",
   "nbconvert_exporter": "python",
   "pygments_lexer": "ipython3",
   "version": "3.7.1"
  }
 },
 "nbformat": 4,
 "nbformat_minor": 2
}
