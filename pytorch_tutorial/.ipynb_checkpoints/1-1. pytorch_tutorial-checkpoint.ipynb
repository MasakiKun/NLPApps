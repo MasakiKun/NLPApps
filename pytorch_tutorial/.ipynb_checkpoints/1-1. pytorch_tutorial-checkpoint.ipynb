{
 "cells": [
  {
   "cell_type": "code",
   "execution_count": null,
   "metadata": {},
   "outputs": [],
   "source": [
    "%matplotlib inline"
   ]
  },
  {
   "cell_type": "markdown",
   "metadata": {},
   "source": [
    "\n",
    "PyTorch 소개\n",
    "***********************\n",
    "\n",
    "Torch의 텐서(Tensor) 라이브러리 소개\n",
    "======================================\n",
    "\n",
    "모든 딥러닝은 2차원 이상으로 색인될 수 있는 행렬의 일반화인\n",
    "텐서의 연산입니다. 이것이 무엇을 의미하지 나중에 정확히\n",
    "알게 될 것입니다. 먼저, 텐서로 무엇을 할 수 있는지 살펴 봅시다.\n",
    "\n"
   ]
  },
  {
   "cell_type": "code",
   "execution_count": null,
   "metadata": {},
   "outputs": [],
   "source": [
    "# Author: Robert Guthrie\n",
    "\n",
    "import torch\n",
    "import torch.autograd as autograd\n",
    "import torch.nn as nn\n",
    "import torch.nn.functional as F\n",
    "import torch.optim as optim\n",
    "\n",
    "torch.manual_seed(1)"
   ]
  },
  {
   "cell_type": "markdown",
   "metadata": {},
   "source": [
    "텐서 생성하기\n",
    "~~~~~~~~~~~~~~~~\n",
    "\n",
    "텐서는 파이썬 리스트에서 torch.Tensor() 함수로 생성될 수 있습니다.\n",
    "\n",
    "\n"
   ]
  },
  {
   "cell_type": "code",
   "execution_count": null,
   "metadata": {},
   "outputs": [],
   "source": [
    "# torch.tensor(data) 는 주어진 데이터로 torch.Tensor 객체를 생성합니다.\n",
    "V_data = [1., 2., 3.]\n",
    "V = torch.tensor(V_data)\n",
    "print(V)\n",
    "\n",
    "# 행렬 생성\n",
    "M_data = [[1., 2., 3.], [4., 5., 6]]\n",
    "M = torch.tensor(M_data)\n",
    "print(M)\n",
    "\n",
    "# 2x2x2 크기의 3D 텐서 생성.\n",
    "T_data = [[[1., 2.], [3., 4.]],\n",
    "          [[5., 6.], [7., 8.]]]\n",
    "T = torch.tensor(T_data)\n",
    "print(T)"
   ]
  },
  {
   "cell_type": "markdown",
   "metadata": {},
   "source": [
    "어쨌든 3D 텐서가 무엇입니까? 이렇게 생각해 보십시오. 만약 벡터가 있다면\n",
    "벡터에 주소를 입력하면 스칼라를 줍니다. 만약 행렬을 가지고 있다면 행렬에\n",
    "주소를 입력하면 벡터를 줍니다. 만약 3D 텐서를 가지고 있다면 텐서에 주소를\n",
    "입력하면 행렬을 줍니다.\n",
    "\n",
    "용어에 대한 주석:\n",
    "이 튜토리얼에서 \"텐서\"를 언급 할 때 그것은 어떤 torch.Tensor 객체를 말합니다.\n",
    "행렬과 벡터는 각각 차원이 1과 2인 torch.Tensors 의 특별한 케이스 입니다.\n",
    "3D 텐서를 말할 때는 \"3D 텐서\"라고 명시적으로 사용하겠습니다.\n",
    "\n",
    "\n"
   ]
  },
  {
   "cell_type": "code",
   "execution_count": null,
   "metadata": {},
   "outputs": [],
   "source": [
    "# Index into V and get a scalar (0 dimensional tensor)\n",
    "print(V[0])\n",
    "# Get a Python number from it\n",
    "print(V[0].item())\n",
    "\n",
    "# Index into M and get a vector\n",
    "print(M[0])\n",
    "\n",
    "# Index into T and get a matrix\n",
    "print(T[0])"
   ]
  },
  {
   "cell_type": "markdown",
   "metadata": {},
   "source": [
    "다른 데이터 유형의 텐서를 생성 할 수도 있습니다. 보시다시피 기본값은\n",
    "Float입니다. 정수형의 텐서를 만들려면 torch.LongTensor ()를 사용하십시오.\n",
    "더 많은 데이터 유형에 대해서는 설명서를 확인하십시오.\n",
    "그러나 Float 및 Long이 가장 일반적입니다.\n",
    "\n",
    "\n"
   ]
  },
  {
   "cell_type": "markdown",
   "metadata": {},
   "source": [
    "torch.randn ()을 사용하여 랜덤 데이터와 제공된 차원으로 텐서를\n",
    "만들 수 있습니다.\n",
    "\n",
    "\n"
   ]
  },
  {
   "cell_type": "code",
   "execution_count": null,
   "metadata": {},
   "outputs": [],
   "source": [
    "x = torch.randn((3, 4, 5))\n",
    "print(x)"
   ]
  },
  {
   "cell_type": "markdown",
   "metadata": {},
   "source": [
    "텐서로 작업하기\n",
    "~~~~~~~~~~~~~~~~~~~~~~~\n",
    "\n",
    "기대하는 방식으로 텐서로 작업할 수 있습니다.\n",
    "\n"
   ]
  },
  {
   "cell_type": "code",
   "execution_count": null,
   "metadata": {},
   "outputs": [],
   "source": [
    "x = torch.tensor([1., 2., 3.])\n",
    "y = torch.tensor([4., 5., 6.])\n",
    "z = x + y\n",
    "print(z)"
   ]
  },
  {
   "cell_type": "markdown",
   "metadata": {},
   "source": [
    "사용 가능한 방대한 작업의 전체 목록은\n",
    "`문서 <http://pytorch.org/docs/torch.html>`__ 를 참고하십시오. 단순한\n",
    "수학적 연산 이상으로 확장됩니다.\n",
    "\n",
    "나중에 사용하게 될 유용한 작업 중 하나는 연결입니다.\n",
    "\n",
    "\n"
   ]
  },
  {
   "cell_type": "code",
   "execution_count": null,
   "metadata": {},
   "outputs": [],
   "source": [
    "# 기본으로 첫번째 축(가로 연결)을 따라 연결합니다.\n",
    "x_1 = torch.randn(2, 5)\n",
    "y_1 = torch.randn(3, 5)\n",
    "z_1 = torch.cat([x_1, y_1])\n",
    "print(z_1)\n",
    "\n",
    "# 세로 연결:\n",
    "x_2 = torch.randn(2, 3)\n",
    "y_2 = torch.randn(2, 5)\n",
    "# 두번째 변수는 연결될 축을 결정합니다.\n",
    "z_2 = torch.cat([x_2, y_2], 1)\n",
    "print(z_2)\n",
    "\n",
    "# 텐서가 호환되지 않으면 Torch가 오류 메시지를 출력 합니다. 주석 처리를 제거하여 오류를 확인하십시오.\n",
    "# torch.cat([x_1, x_2])"
   ]
  },
  {
   "cell_type": "markdown",
   "metadata": {},
   "source": [
    "텐서 재구성\n",
    "~~~~~~~~~~~~~~~~~\n",
    "\n",
    ".view() 메서드를 사용해서 텐서를 재구성합니다.\n",
    "이 메서드는 많은 신경망 구성 요소가 입력을 특정 모양으로 예상하기\n",
    "때문에 많이 사용됩니다. 데이터를 구성 요소로 전달하기 전에 종종 모양을\n",
    "변경해야합니다.\n",
    "\n",
    "\n"
   ]
  },
  {
   "cell_type": "code",
   "execution_count": null,
   "metadata": {},
   "outputs": [],
   "source": [
    "x = torch.randn(2, 3, 4)\n",
    "print(x)\n",
    "print(x.view(2, 12))  # 가로 2 , 세로 12로 재구성\n",
    "# 위와 같이 하나의 차원이 -1이면 그 것의 크기는 유추될 수 있습니다.\n",
    "print(x.view(2, -1))"
   ]
  },
  {
   "cell_type": "markdown",
   "metadata": {},
   "source": [
    "연산 그래프(Computation Graph)와 자동 미분(Automatic Differentiation)\n",
    "=======================================================================\n",
    "\n",
    "연산 그래프의 개념은 역전파 그라디언트를 직접 작성할 필요가 없게 해주기 때문에\n",
    "효율적인 딥러닝 프로그래밍에 필수적입니다.\n",
    "연산 그래프는 데이터를 결합하여 출력을 제공하는 방법의 간단한 특징입니다.\n",
    "그래프는 어떤 연산과 어떤 매개 변수가 연관되는지를 완전하게 특정하기 때문에\n",
    "도함수(derivative)를 계산하기에 충분한 정보를 포함합니다.\n",
    "아마 모호하게 들릴지도 모르니, 근본적인 플래그``requires_grad`` 를 사용하는데\n",
    "어떤 일이 일어나는지 살펴봅시다.\n",
    "\n",
    "먼저 프로그래머 관점에서 생각해 보세요.\n",
    "torch 에 무엇이 저장되있나요.\n",
    "위에서 생성한 텐서의 객체는 무엇입니까? 분명히 데이터와 형태, 그리고\n",
    "아마 몇몇 다른 것들 입니다. 그러나 우리가 두개의 텐서를 더할 때\n",
    "출력 텐서를 얻습니다. 이 모든 출력 텐서는 그것의 데이터와 형태를 알고 있습니다.\n",
    "하지만 그것이 두 텐서의 합이 었는지는 알지 못합니다.(파일에서 읽었을 수도\n",
    "있고 다른 연산의 결과일 수도 있음)\n",
    "\n",
    "만일 ``requires_grad=True`` 라면, 텐서 객체는 것이 어떻게 생성되었는지 추적합니다.\n",
    "실제로 그것을 확인해 봅시다.\n",
    "\n",
    "\n"
   ]
  },
  {
   "cell_type": "code",
   "execution_count": null,
   "metadata": {},
   "outputs": [],
   "source": [
    "# 텐서 공장 메소드에 ``requires_grad`` 플래그가 있습니다.\n",
    "x = torch.tensor([1., 2., 3], requires_grad=True)\n",
    "\n",
    "# requires_grad=True 으로 이전에 있었던 모든 작업을 여전히 할 수 있습니다.\n",
    "y = torch.tensor([4., 5., 6], requires_grad=True)\n",
    "z = x + y\n",
    "print(z)\n",
    "\n",
    "# 그러나 z 는 몇가지를 추가로 알고 있습니다.\n",
    "print(z.grad_fn)"
   ]
  },
  {
   "cell_type": "markdown",
   "metadata": {},
   "source": [
    "그래서 텐서는 무엇이 그들을 생성했는지를 알고 있습니다.\n",
    "z 는 그것이 파일에서 읽어온 것이 아니고 곱셈 지수승 또는 다른 어떤 것의\n",
    "결과가 아니라는 것을 알고 있습니다. 그리고 만약 z.grad_fn 를 따라 간다면\n",
    "x 와 y 를 찾을 것 입니다.\n",
    "\n",
    "그러나 그것이 기울기(gradient)를 계산하는데 어떻게 도움이 될까요?\n",
    "\n",
    "\n"
   ]
  },
  {
   "cell_type": "code",
   "execution_count": null,
   "metadata": {},
   "outputs": [],
   "source": [
    "# z 의 모든 요소를 합해 봅시다.\n",
    "s = z.sum()\n",
    "print(s)\n",
    "print(s.grad_fn)"
   ]
  },
  {
   "cell_type": "markdown",
   "metadata": {},
   "source": [
    "이제 x의 첫번째 구성요소에 해당하는 이 합계의 도함수가 무엇입니까?\n",
    "우리가 원하는 수식은 다음과 같습니다.\n",
    "\n",
    "\\begin{align}\\frac{\\partial s}{\\partial x_0}\\end{align}\n",
    "\n",
    "\n",
    "\n",
    "그럼 s 는 텐서 z 의 합으로 생성되었다는 것을 알고 있습니다.\n",
    "z 는 x + y 합이 었다는 것을 알고 있습니다. 따라서\n",
    "\n",
    "\\begin{align}s = \\overbrace{x_0 + y_0}^\\text{$z_0$} + \\overbrace{x_1 + y_1}^\\text{$z_1$} + \\overbrace{x_2 + y_2}^\\text{$z_2$}\\end{align}\n",
    "\n",
    "그리고 따라서 s 는 우리가 원하는 도함수가 1인 것을 결정하는데 충분한 정보를 가지고 있습니다.\n",
    "\n",
    "물론 이것은 그 도함수를 실제로 계산법에 대한 도전에 대해 해설하고 있습니다.\n",
    "여기서 핵심은 s 가 그것을 계산 할 수 있는 충분한 정보를 가지고 있다는 것 입니다.\n",
    "실제로 Pytorch 개발자는 기울기를 계산하는 방법을 알고 sum() 과 + 연산을 프로그램하고\n",
    "역전파 알고리즘을 실행합니다. 이 알고리즘에 대한 자세한 설명은 이 튜토리얼의\n",
    "범위를 벗어납니다.\n",
    "\n",
    "\n"
   ]
  },
  {
   "cell_type": "markdown",
   "metadata": {},
   "source": [
    "Pytorch가 기울기를 계산하게 하고, 우리가 옳았다는 것을 확인하십시오\n",
    "( 만약 이 블럭을 여러번 실행한다면 기울기가 증가할 것입니다.\n",
    "그것은 Pytorch 가 .grad 속성에 기울기를 누적하기 때문이고,\n",
    "이것은 많은 모델에서 매우 편리합니다.\n",
    "\n",
    "\n"
   ]
  },
  {
   "cell_type": "code",
   "execution_count": null,
   "metadata": {},
   "outputs": [],
   "source": [
    "# 어떤 변수에서 .backward() 호출은 그것에서 시작하는 역전파를 실행합니다.\n",
    "s.backward()\n",
    "print(x.grad)"
   ]
  },
  {
   "cell_type": "markdown",
   "metadata": {},
   "source": [
    "아래 블록에서 진행되는 작업을 이해하는 것은 딥러닝의 성공적인\n",
    "프로그래머가 되는데 중요합니다.\n",
    "\n",
    "\n"
   ]
  },
  {
   "cell_type": "code",
   "execution_count": null,
   "metadata": {},
   "outputs": [],
   "source": [
    "x = torch.randn(2, 2)\n",
    "y = torch.randn(2, 2)\n",
    "# 기본적으로 사용자가 생성한 텐서는 ``requires_grad=False`` 로 설정됩니다.\n",
    "print(x.requires_grad, y.requires_grad)\n",
    "z = x + y\n",
    "# 따라서 z 를 통하는 역전파를 계산할 수 없습니다.\n",
    "print(z.grad_fn)\n",
    "\n",
    "# ``.requires_grad_( ... )`` 는 기존 텐서의 ``requires_grad`` 플래그를 변경합니다.\n",
    "# 입력 플래그는 주어지지 않을 경우 기본적으로 ``True`` 설정됩니다.\n",
    "x = x.requires_grad_()\n",
    "y = y.requires_grad_()\n",
    "# 위에서 본대로 z 는 기울기를 계산하는데 충분한 정보를 가지고 있습니다.\n",
    "z = x + y\n",
    "print(z.grad_fn)\n",
    "# 만일 연산의 어떤 입력이 ``requires_grad=True`` 를 가지면, 그 출력도 동일합니다.\n",
    "print(z.requires_grad)\n",
    "\n",
    "# 이제 z는 x와 y와 관련이 있는 연산 이력을 가집니다.\n",
    "# 그것의 값만 취해서 그것의 이력에서 **분리** 할 수 있을 까요?\n",
    "new_z = z.detach()\n",
    "\n",
    "# ... new_z는 x와 y에 역전파하기 위한 정보를 가지고 있습니까?\n",
    "# 아닙니다!\n",
    "print(new_z.grad_fn)\n",
    "# 어떻게 그럴 수 있을까요?  ``z.detach()`` 는 ``z`` 와 같은 저장 공간을 공유하지만\n",
    "# 계산 이력을 잊어버린 텐서를 반환합니다. 그것은 그것이 어떻게 계산되었는지\n",
    "# 아무 것도 모릅니다.\n",
    "# 기본적으로 우리는 과거의 이력에서 Tensor를 분리했습니다."
   ]
  },
  {
   "cell_type": "markdown",
   "metadata": {},
   "source": [
    "requires_grad=True 를 가진 텐서를 ``with torch.no_grad():`` 으로\n",
    "둘러싸서 이력 추적의 자동미분(autograd)을 멈출 수 있습니다.\n",
    "\n"
   ]
  },
  {
   "cell_type": "code",
   "execution_count": null,
   "metadata": {},
   "outputs": [],
   "source": [
    "print(x.requires_grad)\n",
    "print((x ** 2).requires_grad)\n",
    "\n",
    "with torch.no_grad():\n",
    "\tprint((x ** 2).requires_grad)"
   ]
  }
 ],
 "metadata": {
  "kernelspec": {
   "display_name": "Python 3",
   "language": "python",
   "name": "python3"
  },
  "language_info": {
   "codemirror_mode": {
    "name": "ipython",
    "version": 3
   },
   "file_extension": ".py",
   "mimetype": "text/x-python",
   "name": "python",
   "nbconvert_exporter": "python",
   "pygments_lexer": "ipython3",
   "version": "3.7.1"
  }
 },
 "nbformat": 4,
 "nbformat_minor": 1
}
