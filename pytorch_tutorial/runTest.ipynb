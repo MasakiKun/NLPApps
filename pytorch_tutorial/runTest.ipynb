{
 "cells": [
  {
   "cell_type": "code",
   "execution_count": 1,
   "metadata": {},
   "outputs": [],
   "source": [
    "import torch"
   ]
  },
  {
   "cell_type": "code",
   "execution_count": 26,
   "metadata": {},
   "outputs": [
    {
     "name": "stdout",
     "output_type": "stream",
     "text": [
      "tensor([1.5000, 1.0000]) torch.Size([2])\n",
      "Parameter containing:\n",
      "tensor([0.4000, 0.5000], requires_grad=True) torch.Size([2])\n",
      "tensor(1.1000, grad_fn=<AddBackward0>)\n",
      "tensor(0.7503, grad_fn=<SigmoidBackward>)\n",
      "tensor([0.2811, 0.1874])\n"
     ]
    }
   ],
   "source": [
    "x = torch.FloatTensor([1.5, 1.0])\n",
    "param = torch.FloatTensor([0.4, 0.5])\n",
    "w = torch.nn.Parameter(param)\n",
    "\n",
    "y = sum(w*x)\n",
    "y_logit = torch.sigmoid(y) # transforming the value to 0~1\n",
    "print(x, x.size())\n",
    "print(w, w.size())\n",
    "print(y)\n",
    "print(y_logit)\n",
    "y_logit.backward()\n",
    "print(w.grad)"
   ]
  }
 ],
 "metadata": {
  "kernelspec": {
   "display_name": "Python 3",
   "language": "python",
   "name": "python3"
  },
  "language_info": {
   "codemirror_mode": {
    "name": "ipython",
    "version": 3
   },
   "file_extension": ".py",
   "mimetype": "text/x-python",
   "name": "python",
   "nbconvert_exporter": "python",
   "pygments_lexer": "ipython3",
   "version": "3.7.1"
  }
 },
 "nbformat": 4,
 "nbformat_minor": 2
}
